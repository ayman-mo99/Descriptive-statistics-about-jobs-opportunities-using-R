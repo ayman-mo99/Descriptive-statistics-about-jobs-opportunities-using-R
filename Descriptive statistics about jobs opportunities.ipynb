{
 "cells": [
  {
   "cell_type": "markdown",
   "metadata": {},
   "source": [
    "# Notebook include descriptive statistics about jobs opportunities\n",
    "\n",
    "<span style=\"color: red;font-size:30px;\">1 Read the data</span>"
   ]
  },
  {
   "cell_type": "code",
   "execution_count": 17,
   "metadata": {
    "scrolled": true
   },
   "outputs": [],
   "source": [
    "library(dplyr)\n",
    "library(ggplot2)\n",
    "library(tidyverse)\n",
    "library(stringr)\n",
    "options(warn=-1)"
   ]
  },
  {
   "cell_type": "markdown",
   "metadata": {},
   "source": [
    "### Read the Data Analyst jobs data"
   ]
  },
  {
   "cell_type": "code",
   "execution_count": 18,
   "metadata": {
    "scrolled": true
   },
   "outputs": [],
   "source": [
    "DA_Data=read.csv(\"DataAnalyst.csv\")"
   ]
  },
  {
   "cell_type": "code",
   "execution_count": 19,
   "metadata": {
    "scrolled": true
   },
   "outputs": [
    {
     "name": "stdout",
     "output_type": "stream",
     "text": [
      " [1] \"X\"                 \"Job.Title\"         \"Salary.Estimate\"  \n",
      " [4] \"Job.Description\"   \"Rating\"            \"Company.Name\"     \n",
      " [7] \"Location\"          \"Headquarters\"      \"Size\"             \n",
      "[10] \"Founded\"           \"Type.of.ownership\" \"Industry\"         \n",
      "[13] \"Sector\"            \"Revenue\"           \"Competitors\"      \n",
      "[16] \"Easy.Apply\"       \n"
     ]
    }
   ],
   "source": [
    "print(names(DA_Data))"
   ]
  },
  {
   "cell_type": "markdown",
   "metadata": {},
   "source": [
    "### Read the Data Scientist jobs data"
   ]
  },
  {
   "cell_type": "code",
   "execution_count": 20,
   "metadata": {
    "scrolled": true
   },
   "outputs": [],
   "source": [
    "DS_Data=read.csv(\"DataScientist.csv\")"
   ]
  },
  {
   "cell_type": "code",
   "execution_count": 21,
   "metadata": {
    "scrolled": true
   },
   "outputs": [
    {
     "name": "stdout",
     "output_type": "stream",
     "text": [
      " [1] \"X\"                 \"index\"             \"Job.Title\"        \n",
      " [4] \"Salary.Estimate\"   \"Job.Description\"   \"Rating\"           \n",
      " [7] \"Company.Name\"      \"Location\"          \"Headquarters\"     \n",
      "[10] \"Size\"              \"Founded\"           \"Type.of.ownership\"\n",
      "[13] \"Industry\"          \"Sector\"            \"Revenue\"          \n",
      "[16] \"Competitors\"       \"Easy.Apply\"       \n"
     ]
    }
   ],
   "source": [
    "print(names(DS_Data))"
   ]
  },
  {
   "cell_type": "markdown",
   "metadata": {},
   "source": [
    "### Read the Data Engineer jobs data"
   ]
  },
  {
   "cell_type": "code",
   "execution_count": 22,
   "metadata": {
    "scrolled": true
   },
   "outputs": [],
   "source": [
    "DE_Data=read.csv(\"DataEngineer.csv\")"
   ]
  },
  {
   "cell_type": "code",
   "execution_count": 23,
   "metadata": {
    "scrolled": true
   },
   "outputs": [
    {
     "name": "stdout",
     "output_type": "stream",
     "text": [
      " [1] \"Job.Title\"         \"Salary.Estimate\"   \"Job.Description\"  \n",
      " [4] \"Rating\"            \"Company.Name\"      \"Location\"         \n",
      " [7] \"Headquarters\"      \"Size\"              \"Founded\"          \n",
      "[10] \"Type.of.ownership\" \"Industry\"          \"Sector\"           \n",
      "[13] \"Revenue\"           \"Competitors\"       \"Easy.Apply\"       \n"
     ]
    }
   ],
   "source": [
    "print(names(DE_Data))"
   ]
  },
  {
   "cell_type": "markdown",
   "metadata": {},
   "source": [
    "### Dimensional uniformity"
   ]
  },
  {
   "cell_type": "code",
   "execution_count": 24,
   "metadata": {
    "scrolled": true
   },
   "outputs": [],
   "source": [
    "DA_Data[\"X\"] <- NULL\n",
    "DS_Data[\"X\"] <- NULL\n",
    "DS_Data[\"index\"] <- NULL\n",
    "\n",
    "DA_Data <- DA_Data %>% add_column(job.category = factor(\"DA\")) \n",
    "DS_Data <- DS_Data %>% add_column(job.category = factor(\"DS\")) \n",
    "DE_Data <- DE_Data %>% add_column(job.category = factor(\"DE\")) "
   ]
  },
  {
   "cell_type": "markdown",
   "metadata": {},
   "source": [
    "### All together"
   ]
  },
  {
   "cell_type": "code",
   "execution_count": 25,
   "metadata": {
    "scrolled": true
   },
   "outputs": [],
   "source": [
    "Data =rbind(DA_Data, DS_Data ,DE_Data )"
   ]
  },
  {
   "cell_type": "markdown",
   "metadata": {},
   "source": [
    "<span style=\"color: red;font-size:30px;\">2 Discovering the Data</span>"
   ]
  },
  {
   "cell_type": "code",
   "execution_count": 26,
   "metadata": {},
   "outputs": [
    {
     "data": {
      "text/html": [
       "<table>\n",
       "<thead><tr><th></th><th scope=col>Job.Title</th><th scope=col>Salary.Estimate</th><th scope=col>Rating</th><th scope=col>Company.Name</th><th scope=col>Location</th><th scope=col>Headquarters</th><th scope=col>Size</th><th scope=col>Founded</th><th scope=col>Type.of.ownership</th><th scope=col>Industry</th><th scope=col>Sector</th><th scope=col>Revenue</th><th scope=col>Competitors</th><th scope=col>Easy.Apply</th><th scope=col>job.category</th></tr></thead>\n",
       "<tbody>\n",
       "\t<tr><th scope=row>1</th><td>Data Analyst, Center on Immigration and Justice (CIJ)        </td><td>$37K-$66K (Glassdoor est.)                                   </td><td>3.2                                                          </td><td>Vera Institute of Justice\n",
       "3.2                               </td><td>New York, NY                                                 </td><td>New York, NY                                                 </td><td>201 to 500 employees                                         </td><td>1961                                                         </td><td>Nonprofit Organization                                       </td><td>Social Assistance                                            </td><td>Non-Profit                                                   </td><td>$100 to $500 million (USD)                                   </td><td>-1                                                           </td><td>True                                                         </td><td>DA                                                           </td></tr>\n",
       "\t<tr><th scope=row>2</th><td><span style=white-space:pre-wrap>Quality Data Analyst                                         </span></td><td><span style=white-space:pre-wrap>$37K-$66K (Glassdoor est.)  </span>                                 </td><td>3.8                                                                                                  </td><td>Visiting Nurse Service of New York\n",
       "3.8                                                              </td><td><span style=white-space:pre-wrap>New York, NY    </span>                                             </td><td><span style=white-space:pre-wrap>New York, NY    </span>                                             </td><td><span style=white-space:pre-wrap>10000+ employees    </span>                                         </td><td>1893                                                                                                 </td><td>Nonprofit Organization                                                                               </td><td>Health Care Services &amp; Hospitals                                                                 </td><td><span style=white-space:pre-wrap>Health Care               </span>                                   </td><td><span style=white-space:pre-wrap>$2 to $5 billion (USD)    </span>                                   </td><td><span style=white-space:pre-wrap>-1                   </span>                                        </td><td><span style=white-space:pre-wrap>-1  </span>                                                         </td><td>DA                                                                                                   </td></tr>\n",
       "\t<tr><th scope=row>3000</th><td>Statistician (Data Scientist) *12 month Roster* *Direct Hire*</td><td>$79K-$130K (Glassdoor est.)                                  </td><td>3.5                                                          </td><td>Internal Revenue Service\n",
       "3.5                                </td><td>Chicago, IL                                                  </td><td>Washington, DC                                               </td><td>10000+ employees                                             </td><td>1862                                                         </td><td>Government                                                   </td><td>Federal Agencies                                             </td><td>Government                                                   </td><td>Unknown / Non-Applicable                                     </td><td>-1                                                           </td><td>-1                                                           </td><td>DS                                                           </td></tr>\n",
       "\t<tr><th scope=row>4000</th><td><span style=white-space:pre-wrap>Lead Process Development Scientist - Upstream                </span></td><td>$65K-$100K (Glassdoor est.)                                                                          </td><td>3.2                                                                                                  </td><td><span style=white-space:pre-wrap>Spark Therapeutics\n",
       "3.2                </span>                      </td><td>Philadelphia, PA                                                                                     </td><td>Philadelphia, PA                                                                                     </td><td>201 to 500 employees                                                                                 </td><td><span style=white-space:pre-wrap>  -1</span>                                                         </td><td><span style=white-space:pre-wrap>Company - Public      </span>                                       </td><td><span style=white-space:pre-wrap>Biotech &amp; Pharmaceuticals       </span>                         </td><td>Biotech &amp; Pharmaceuticals                                                                        </td><td><span style=white-space:pre-wrap>$10 to $25 million (USD)  </span>                                   </td><td><span style=white-space:pre-wrap>-1                   </span>                                        </td><td><span style=white-space:pre-wrap>-1  </span>                                                         </td><td>DS                                                                                                   </td></tr>\n",
       "\t<tr><th scope=row>7000</th><td><span style=white-space:pre-wrap>Data Engineer                                                </span></td><td>$79K-$104K (Glassdoor est.)                                                                          </td><td>3.3                                                                                                  </td><td><span style=white-space:pre-wrap>Swift Refrigerated\n",
       "3.3                </span>                      </td><td><span style=white-space:pre-wrap>Phoenix, AZ     </span>                                             </td><td><span style=white-space:pre-wrap>Phoenix, AZ     </span>                                             </td><td><span style=white-space:pre-wrap>10000+ employees    </span>                                         </td><td>1966                                                                                                 </td><td><span style=white-space:pre-wrap>Company - Public      </span>                                       </td><td><span style=white-space:pre-wrap>Trucking                        </span>                             </td><td>Transportation &amp; Logistics                                                                       </td><td><span style=white-space:pre-wrap>$2 to $5 billion (USD)    </span>                                   </td><td><span style=white-space:pre-wrap>-1                   </span>                                        </td><td><span style=white-space:pre-wrap>-1  </span>                                                         </td><td>DE                                                                                                   </td></tr>\n",
       "\t<tr><th scope=row>8000</th><td>Data Engineer                                                </td><td>$164K-$192K (Glassdoor est.)                                 </td><td>3.9                                                          </td><td>PayPal\n",
       "3.9                                                  </td><td>San Jose, CA                                                 </td><td>San Jose, CA                                                 </td><td>10000+ employees                                             </td><td>1998                                                         </td><td>Company - Public                                             </td><td>Internet                                                     </td><td>Information Technology                                       </td><td>$10+ billion (USD)                                           </td><td>Square, Amazon, Apple                                        </td><td>-1                                                           </td><td>DE                                                           </td></tr>\n",
       "</tbody>\n",
       "</table>\n"
      ],
      "text/latex": [
       "\\begin{tabular}{r|lllllllllllllll}\n",
       "  & Job.Title & Salary.Estimate & Rating & Company.Name & Location & Headquarters & Size & Founded & Type.of.ownership & Industry & Sector & Revenue & Competitors & Easy.Apply & job.category\\\\\n",
       "\\hline\n",
       "\t1 & Data Analyst, Center on Immigration and Justice (CIJ)         & \\$37K-\\$66K (Glassdoor est.)                                & 3.2                                                           & Vera Institute of Justice\n",
       "3.2                                & New York, NY                                                  & New York, NY                                                  & 201 to 500 employees                                          & 1961                                                          & Nonprofit Organization                                        & Social Assistance                                             & Non-Profit                                                    & \\$100 to \\$500 million (USD)                                & -1                                                            & True                                                          & DA                                                           \\\\\n",
       "\t2 & Quality Data Analyst                                          & \\$37K-\\$66K (Glassdoor est.)                                & 3.8                                                           & Visiting Nurse Service of New York\n",
       "3.8                       & New York, NY                                                  & New York, NY                                                  & 10000+ employees                                              & 1893                                                          & Nonprofit Organization                                        & Health Care Services \\& Hospitals                            & Health Care                                                   & \\$2 to \\$5 billion (USD)                                    & -1                                                            & -1                                                            & DA                                                           \\\\\n",
       "\t3000 & Statistician (Data Scientist) *12 month Roster* *Direct Hire* & \\$79K-\\$130K (Glassdoor est.)                               & 3.5                                                           & Internal Revenue Service\n",
       "3.5                                 & Chicago, IL                                                   & Washington, DC                                                & 10000+ employees                                              & 1862                                                          & Government                                                    & Federal Agencies                                              & Government                                                    & Unknown / Non-Applicable                                      & -1                                                            & -1                                                            & DS                                                           \\\\\n",
       "\t4000 & Lead Process Development Scientist - Upstream                 & \\$65K-\\$100K (Glassdoor est.)                               & 3.2                                                           & Spark Therapeutics\n",
       "3.2                                       & Philadelphia, PA                                              & Philadelphia, PA                                              & 201 to 500 employees                                          &   -1                                                          & Company - Public                                              & Biotech \\& Pharmaceuticals                                   & Biotech \\& Pharmaceuticals                                   & \\$10 to \\$25 million (USD)                                  & -1                                                            & -1                                                            & DS                                                           \\\\\n",
       "\t7000 & Data Engineer                                                 & \\$79K-\\$104K (Glassdoor est.)                               & 3.3                                                           & Swift Refrigerated\n",
       "3.3                                       & Phoenix, AZ                                                   & Phoenix, AZ                                                   & 10000+ employees                                              & 1966                                                          & Company - Public                                              & Trucking                                                      & Transportation \\& Logistics                                  & \\$2 to \\$5 billion (USD)                                    & -1                                                            & -1                                                            & DE                                                           \\\\\n",
       "\t8000 & Data Engineer                                                 & \\$164K-\\$192K (Glassdoor est.)                              & 3.9                                                           & PayPal\n",
       "3.9                                                   & San Jose, CA                                                  & San Jose, CA                                                  & 10000+ employees                                              & 1998                                                          & Company - Public                                              & Internet                                                      & Information Technology                                        & \\$10+ billion (USD)                                          & Square, Amazon, Apple                                         & -1                                                            & DE                                                           \\\\\n",
       "\\end{tabular}\n"
      ],
      "text/markdown": [
       "\n",
       "| <!--/--> | Job.Title | Salary.Estimate | Rating | Company.Name | Location | Headquarters | Size | Founded | Type.of.ownership | Industry | Sector | Revenue | Competitors | Easy.Apply | job.category |\n",
       "|---|---|---|---|---|---|---|---|---|---|---|---|---|---|---|---|\n",
       "| 1 | Data Analyst, Center on Immigration and Justice (CIJ)         | $37K-$66K (Glassdoor est.)                                    | 3.2                                                           | Vera Institute of Justice\n",
       "3.2                                | New York, NY                                                  | New York, NY                                                  | 201 to 500 employees                                          | 1961                                                          | Nonprofit Organization                                        | Social Assistance                                             | Non-Profit                                                    | $100 to $500 million (USD)                                    | -1                                                            | True                                                          | DA                                                            |\n",
       "| 2 | Quality Data Analyst                                          | $37K-$66K (Glassdoor est.)                                    | 3.8                                                           | Visiting Nurse Service of New York\n",
       "3.8                       | New York, NY                                                  | New York, NY                                                  | 10000+ employees                                              | 1893                                                          | Nonprofit Organization                                        | Health Care Services & Hospitals                              | Health Care                                                   | $2 to $5 billion (USD)                                        | -1                                                            | -1                                                            | DA                                                            |\n",
       "| 3000 | Statistician (Data Scientist) *12 month Roster* *Direct Hire* | $79K-$130K (Glassdoor est.)                                   | 3.5                                                           | Internal Revenue Service\n",
       "3.5                                 | Chicago, IL                                                   | Washington, DC                                                | 10000+ employees                                              | 1862                                                          | Government                                                    | Federal Agencies                                              | Government                                                    | Unknown / Non-Applicable                                      | -1                                                            | -1                                                            | DS                                                            |\n",
       "| 4000 | Lead Process Development Scientist - Upstream                 | $65K-$100K (Glassdoor est.)                                   | 3.2                                                           | Spark Therapeutics\n",
       "3.2                                       | Philadelphia, PA                                              | Philadelphia, PA                                              | 201 to 500 employees                                          |   -1                                                          | Company - Public                                              | Biotech & Pharmaceuticals                                     | Biotech & Pharmaceuticals                                     | $10 to $25 million (USD)                                      | -1                                                            | -1                                                            | DS                                                            |\n",
       "| 7000 | Data Engineer                                                 | $79K-$104K (Glassdoor est.)                                   | 3.3                                                           | Swift Refrigerated\n",
       "3.3                                       | Phoenix, AZ                                                   | Phoenix, AZ                                                   | 10000+ employees                                              | 1966                                                          | Company - Public                                              | Trucking                                                      | Transportation & Logistics                                    | $2 to $5 billion (USD)                                        | -1                                                            | -1                                                            | DE                                                            |\n",
       "| 8000 | Data Engineer                                                 | $164K-$192K (Glassdoor est.)                                  | 3.9                                                           | PayPal\n",
       "3.9                                                   | San Jose, CA                                                  | San Jose, CA                                                  | 10000+ employees                                              | 1998                                                          | Company - Public                                              | Internet                                                      | Information Technology                                        | $10+ billion (USD)                                            | Square, Amazon, Apple                                         | -1                                                            | DE                                                            |\n",
       "\n"
      ],
      "text/plain": [
       "     Job.Title                                                    \n",
       "1    Data Analyst, Center on Immigration and Justice (CIJ)        \n",
       "2    Quality Data Analyst                                         \n",
       "3000 Statistician (Data Scientist) *12 month Roster* *Direct Hire*\n",
       "4000 Lead Process Development Scientist - Upstream                \n",
       "7000 Data Engineer                                                \n",
       "8000 Data Engineer                                                \n",
       "     Salary.Estimate              Rating\n",
       "1    $37K-$66K (Glassdoor est.)   3.2   \n",
       "2    $37K-$66K (Glassdoor est.)   3.8   \n",
       "3000 $79K-$130K (Glassdoor est.)  3.5   \n",
       "4000 $65K-$100K (Glassdoor est.)  3.2   \n",
       "7000 $79K-$104K (Glassdoor est.)  3.3   \n",
       "8000 $164K-$192K (Glassdoor est.) 3.9   \n",
       "     Company.Name                            Location         Headquarters    \n",
       "1    Vera Institute of Justice\\n3.2          New York, NY     New York, NY    \n",
       "2    Visiting Nurse Service of New York\\n3.8 New York, NY     New York, NY    \n",
       "3000 Internal Revenue Service\\n3.5           Chicago, IL      Washington, DC  \n",
       "4000 Spark Therapeutics\\n3.2                 Philadelphia, PA Philadelphia, PA\n",
       "7000 Swift Refrigerated\\n3.3                 Phoenix, AZ      Phoenix, AZ     \n",
       "8000 PayPal\\n3.9                             San Jose, CA     San Jose, CA    \n",
       "     Size                 Founded Type.of.ownership     \n",
       "1    201 to 500 employees 1961    Nonprofit Organization\n",
       "2    10000+ employees     1893    Nonprofit Organization\n",
       "3000 10000+ employees     1862    Government            \n",
       "4000 201 to 500 employees   -1    Company - Public      \n",
       "7000 10000+ employees     1966    Company - Public      \n",
       "8000 10000+ employees     1998    Company - Public      \n",
       "     Industry                         Sector                    \n",
       "1    Social Assistance                Non-Profit                \n",
       "2    Health Care Services & Hospitals Health Care               \n",
       "3000 Federal Agencies                 Government                \n",
       "4000 Biotech & Pharmaceuticals        Biotech & Pharmaceuticals \n",
       "7000 Trucking                         Transportation & Logistics\n",
       "8000 Internet                         Information Technology    \n",
       "     Revenue                    Competitors           Easy.Apply job.category\n",
       "1    $100 to $500 million (USD) -1                    True       DA          \n",
       "2    $2 to $5 billion (USD)     -1                    -1         DA          \n",
       "3000 Unknown / Non-Applicable   -1                    -1         DS          \n",
       "4000 $10 to $25 million (USD)   -1                    -1         DS          \n",
       "7000 $2 to $5 billion (USD)     -1                    -1         DE          \n",
       "8000 $10+ billion (USD)         Square, Amazon, Apple -1         DE          "
      ]
     },
     "metadata": {},
     "output_type": "display_data"
    }
   ],
   "source": [
    "Data[c(1,2,3000,4000,7000,8000),-3]"
   ]
  },
  {
   "cell_type": "markdown",
   "metadata": {},
   "source": [
    "#### Dimensions"
   ]
  },
  {
   "cell_type": "code",
   "execution_count": 27,
   "metadata": {
    "scrolled": true
   },
   "outputs": [
    {
     "data": {
      "text/html": [
       "<ol class=list-inline>\n",
       "\t<li>8690</li>\n",
       "\t<li>16</li>\n",
       "</ol>\n"
      ],
      "text/latex": [
       "\\begin{enumerate*}\n",
       "\\item 8690\n",
       "\\item 16\n",
       "\\end{enumerate*}\n"
      ],
      "text/markdown": [
       "1. 8690\n",
       "2. 16\n",
       "\n",
       "\n"
      ],
      "text/plain": [
       "[1] 8690   16"
      ]
     },
     "metadata": {},
     "output_type": "display_data"
    }
   ],
   "source": [
    "dim(Data)"
   ]
  },
  {
   "cell_type": "code",
   "execution_count": 28,
   "metadata": {},
   "outputs": [
    {
     "data": {
      "text/plain": [
       "                Job.Title                        Salary.Estimate\n",
       " Data Engineer       : 729   $60K-$124K (Glassdoor est.) :  62  \n",
       " Data Analyst        : 656   $93K-$151K (Glassdoor est.) :  62  \n",
       " Data Scientist      : 282   $94K-$166K (Glassdoor est.) :  62  \n",
       " Senior Data Engineer: 140   $60K-$109K (Glassdoor est.) :  62  \n",
       " Senior Data Analyst : 137   $43K-$76K (Glassdoor est.)  :  61  \n",
       " Big Data Engineer   : 114   $113K-$180K (Glassdoor est.):  61  \n",
       " (Other)             :6632   (Other)                     :8320  \n",
       "                                                                                                                                                                                                                                                                                                                                                                                                                                                                                                                                                                                                                                                                                                                                                                                                                                                                                                                                                                                                                                                                                                                                                                                                                                                                                                                                                                                                                                                                                                                                                                                                                                                                                                                                                                                                                                                                                                                                                                                                                                                                                                                                                                                                                                                                                                                                                                                                                                                                                                                                                                                                                                                                                                                                                                                                                                                                                                                                                                                                                                                                                                                                                                                                                                                                                                                                                                                                                                                                                                                                                                                                                                                                                                                                                                                                                                                                                                                                                                                                                                                                                                                                                                                                                                                                                                                                                                                                                                                                                                                                                                                                                                                                                                                                                                                                                                                                                                                                                                                                                                                                                                                                                                                                                                                                                                                                                                                                                                                                                                                                                                                                                                                                                                                                                                                                                                                                                                                                                                                                                                                                                                                                                                                                                                                                                                                                                                                                                                                                                                                                                                                                                                                                                                                                                                                                                                                                                                                                                                                                                                                                                                                                                                                                                                                                                                                                                                                                                                                                                                                                                                                                                                                                                                                                                                                                                                                                                                                                                                                                                                                                                                                                                                                                                                                                                                                                                                                                                                                                                                                                                                                                                                                                                                                                                                                                                                                                                                                                                                                                                                                                                                                                                                                                                                                                                                                                                                                                                                                                                                                                                                                                                                                                                                                                                                                                                                                                                                                                                                                                                                                                                                                                                                                                            Job.Description            \n",
       " Organization: Accenture Federal Services\\n\\nLocation: Chantilly, VA\\n\\nAccenture Federal Services, a wholly owned subsidiary of Accenture LLP, is a U.S. company with offices in Arlington, Virginia. Accenture's federal business has served every cabinet-level department and 30 of the largest federal organizations. Accenture Federal Services transforms bold ideas into breakthrough outcomes for clients at defense, intelligence, public safety, civilian and military health organizations.\\n\\nWe believe that great outcomes are everything. It's what drives us to turn bold ideas into breakthrough solutions. By combining digital technologies with what works across the world's leading businesses, we use agile approaches to help clients solve their toughest problems fast-the first time. So, you can deliver what matters most.\\n\\nCount on us to help you embrace new ways of working, building for change and put customers at the core. A wholly owned subsidiary of Accenture, we bring over 30 years of experience serving the federal government, including every cabinet-level department. Our 7,200 dedicated colleagues and change makers work with our clients at the heart of the nation's priorities in defense, intel, public safety, health and civilian to help you make a difference for the people you employ, serve and protect.\\n\\nJob Description:\\n\\nWork directly with the client gathering requirements to analyze, design and/or implement technology best practice business changes to technology with business strategy and goals.                                                                                                                                                                                                                                                                                                                                                                                                                                                                                                                                                                                                                                                                                                                                                                                                                                                                                                                                                                                                                                                                                                                                                                                                                                                                                                                                                                                                                                                                                                                                                                                                                                                                                                                                                                                                                                                                                                                                                                                                                                                                                                                                                                                                                                                                                                                                                                                                                                                                                                                                                                                                                                                                                                                                                                                                                                                                                                                                                                                                                                                                                                                                                                                                                                                                                                                                                                                                                                                                                                                                                                                                                                                                                                                                                                                                                                                                                                                                                                                                                                                                                                                                                                                                                                                                                                                                                                                                                                                                                                                                                                                                                                                                                                                                                                                                                                                                                                                                                                                                                                                                                                                                                                                                                                                                                                                                                                                                                                                                                                                                                                                                                                                                                                                                                                                                                                                                                                                                                                                                                                                                                                                                                                                                                                                                                                                                                                                                                                                                                                                                                                                                                                                                                                                                                                                                                                                                                                                                                                                                                                                                                                                                                                                                                                                                                                                                                                                                                                                                                                                                                                                                                                                                                                                                                                                                                                                                                                                                                                                                                                                                                                                                                                                                                                                                                                                                                                                                                                                                                                                                                                                                                                           :  15  \n",
       " The U.S. Department of the Treasury has a distinguished history dating back to the founding of our nation. As the steward of U.S. economic and financial systems, Treasury is a major and influential leader in today's global economy. We have over 100,000 employees across the country and around the world. Come Join the Department of the Treasury and Invest in Tomorrow.\\nSee Other Information for Locations\\nPositions are to be filled in the Large Business & International (LB&I), Data Solutions division.\\nEight (8) positions are to be filled in any of the following locations:\\nBirmingham, AL\\nFayetteville, AR\\nLittle Rock, AR\\nPhoenix, AZ\\nEl Monte, CA\\nGlendale, CA\\nLaguna Niguel, CA\\nLos Angeles, CA\\nLong Beach, CA\\nOakland, CA\\nSacramento, CA\\nSan Diego, CA\\nSan Francisco, CA\\nSan Jose, CA\\nSanta Ana, CA\\nLakewood, CO\\nHartford, CT\\nNew Haven, CT\\nNorwalk, CT\\nWashington, DC\\nNewark, DE\\nMiami, FL\\nFt. Myers, FL\\nJacksonville, FL\\nMaitland, FL\\nPlantation, FL\\nTampa, FL\\nWest Palm Beach, FL\\nAtlanta, GA\\nHonolulu, HI\\nDes Moines, IA\\nChicago, IL\\nDowners Grove, IL\\nSchiller Park, IL\\nSpringfield, IL\\nIndianapolis, IN\\nWichita, KS\\nLouisville, KY\\nNew Orleans, LA\\nBoston, MA\\nBrockton, MA\\nStoneham, MA\\nSouthborough, MA\\nBaltimore, MD\\nLanham-Seabrook, MD\\nRockville, MD\\nAnn Arbor, MI\\nClinton Township, MI\\nDetroit, MI\\nFarmington Hills, MI\\nFlint, MI\\nGrand Rapids, MI\\nPontiac, MI\\nBloomington, MN\\nChesterfield, MO\\nLee's Summit, MO\\nCharlotte, NC\\nGreensboro, NC\\nRaleigh, NC\\nOmaha, NE\\nEdison, NJ\\nIselin, NJ\\nMountainside, NJ\\nPaterson, NJ\\nLas Vegas, NV\\nAlbany, NY\\nBethpage, NY\\nBuffalo, NY\\nNew York, NY\\nRochester, NY\\nCincinnati, OH\\nColumbus, OH\\nIndependence, OH\\nOklahoma City, OK\\nTulsa, OK\\nPortland, OR\\nPhiladelphia, PA\\nPittsburgh, PA\\nKing Of Prussia, PA\\nGuaynabo, PR\\nWarwick, RI\\nFranklin, TN\\nMemphis, TN\\nNashville, TN\\nAustin, TX\\nFarmers Branch, TX\\nFort Worth, TX\\nHouston, TX\\nSan Antonio, TX\\nOgden, UT\\nSalt Lake City, UT\\nNorfolk, VA\\nRichmond, VA\\nVienna, VA\\nSeattle, WA\\nMilwaukee, WI\\nWaukesha, WI\\nKearneysville, WV\\nMartinsburg, WV\\nWHAT DOES A DATA SCIENTIST DO? The Data Scientist utilizes advanced analytical, statistical, and computer programming skills to develop data- driven solutions to difficult business challenges. As a data scientist, you are responsible for conducting data-centric projects to provide insight and informed decisions for mission- oriented programs of the Internal Revenue Service (IRS), which may impact multiple program segments, divisions, the Service, or segments of the taxpayer population. This is accomplished by utilizing a wide range of technical competencies such as statistics and machine learning, coding languages, data wrangling, and reporting and visualization techniques. The Data Scientist may lead team or cross functional projects, and will apply critical thinking, problem solving and ability to communicate complex analysis to advance the use of data-driven decision making in IRS operations.\\n\\nWHAT IS THE LARGE BUSINESS AND INTERNATIONAL (LB&I) DIVISION OF THE INTERNAL REVENUE SERVICE? The Large Business and International (LB&I) business unit provides service and enforcement activities to support tax compliance of businesses and related entities with assets of $10 million or more, as well as small U.S. businesses engaged in international, U.S. citizens abroad, and foreign persons and businesses with a U.S. tax requirement.\\nAs a Data Scientist, you will:\\nServe as a technical expert with responsibility for the initiation, planning, implementation, controlling, modifying and executing of all or part of an entire project, including such tasks as formulation of workload estimates for program segments, specification of the methodology to be used, preparation of appropriate specifications and procedures, and review of computer systems specifications and materials and instructions needed for assuring the adequacy of the projectâ\\200\\231s design and objectives.\\nExplore novel methods of retrieving data and develop innovative recommendations to management and senior leadership as a means for making data driven decisions such as modification of processes and policies. Review, evaluate, validate, and document the results of the findings.\\nAssist the supervisor in determining the scope, goals and schedules for future programs in the Office. Collaborate with business or technology partners to understand business needs, identify opportunities, and develop and implement analytical solutions.\\nIdentify and assess relevant data sourcesâ\\200\\231 validity and reliability to meet project needs. Collate, clean, transform, analyze, and integrate structured and unstructured data from various sources in preparation for analysis.\\nApply statistical methods and concepts including data mining, statistical theory and research procedures to test hypotheses using structured and unstructured data. Develop data product solutions to improve customer experiences, anomaly detection, and business outcomes. Develop proofs of concept or demonstrations to evaluate feasibility of project solutions and recommend visualization strategies.\\nDocument project work and review deliverables for validity, reliability and timeliness. Communicate analytic solutions to technical and non-technical stakeholders, including during executive- level and/or cross-agency meetings, in a clear and effective manner using oral and written communications.\\nMaintain knowledge of state-of-the-art innovations in data science from both academic and industry sources and identify opportunities for implementation. Engage in general professional development to improve knowledge of IRS processes/programs.\\nApply computer based mathematical/statistical techniques using software. Lead or participate in statistical projects or studies in survey sampling (design and estimation), modeling, or statistical research. Apply knowledge of programming/coding language (i.e., SQL, SAS, SPSS, RStudio) to develop scripts or applications.\\nAct as a troubleshooter in resolving bottlenecks at any step in a project by identifying and proposing solutions; this may include coordination with other project team members or stakeholders to mitigate issues.\\n\\nWHERE CAN I FIND OUT MORE ABOUT OTHER IRS CAREERS? If you want to find out more about IRS careers, visit us on the web at www.jobs.irs.gov\\n#LI-POST\\nYou must meet the following requirements by the closing date of this announcement\\nBASIC QUALIFICATION REQUIREMENTS:\\n\\nGS-1530 Statistician All Grades:\\nYou must have a Bachelor's degree that included 15 semester hours in statistics (or in mathematics and statistics, provided at least 6 semester hours were in statistics), and 9 additional semester hours in one or more of the following: physical or biological sciences, medicine, education, or engineering; or in the social sciences including demography, history, economics, social welfare, geography, international relations, social or cultural anthropology, health sociology, political science, public administration, psychology, etc. Credit toward meeting statistical course requirements should be given for courses in which 50 percent of the course content appears to be statistical methods, e.g., courses that included studies in research methods in psychology or economics such as tests and measurements or business cycles, or courses in methods of processing mass statistical data such as tabulating methods or electronic data processing. OR\\nCombination of education and experience -- courses as shown above, plus appropriate experience or additional education. The experience should have included a full range of professional statistical work such as (a) sampling, (b) collecting, computing, and analyzing statistical data, and (c) applying statistical techniques such as measurement of central tendency, dispersion, skewness, sampling error, simple and multiple correlation, analysis of variance, and tests of significance.\\nGS-13 LEVEL: You must have one year of specialized experience at a level of difficulty and responsibility equivalent to the GS-12 grade level in the Federal service. Specialized experience for this position includes all of the following:\\nExperience applying project management principles on a data science project\\nExperience planning and executing a variety of data science and/or analytics projects.\\nExperience using data mining process models (such as CRISP-DM, SEMMA, etc.,) to design and execute data science project.\\nExperience preparing and analyzing structured and unstructured datasets to explorations and evaluating data science centric models.\\nExperience working with multiple data types and formats as a part of a data science project.\\nExperience applying a range of analytic approaches, including (but not limited to) machine learning, text analytics, and natural language processing; graph theory, link analysis and optimization models; complex adaptive systems; and/or deep learning neural networks that are part of the exploration.\\nExperience coding in various programming languages (such as R, Python, SQL, or JAVA) to conduct various phases of data science projects.\\nExperience creating and querying different datastores and architectures (such as Sybase, Oracle, and open-source databases) to work with various types of data as part of the data science project.\\nExperience using tools for data visualization (graphs, tables, charts, etc.,) and end-user business intelligence.\\n-The experience may have been gained in the public sector, private sector or Volunteer Service. One year of experience refers to full-time work; part-time work is considered on a prorated basis.\\n-To ensure full credit for your work experience, please indicate dates of employment by month/year, and indicate number of hours worked per week, on your resume.:  14  \n",
       " The Business\\n\\nGradTests.com is a leading provider of practice psychometric tests to graduates, students and young professionals.\\n\\nThe Role\\n\\nThe core purpose of the role is to make high quality, high availability, accurate data available for our data analysts and data scientists to do their analysis, derive their insights and build their models. You are the Scotty Pippin to the Michael Jordans. You are the Xavi to the Messis.\\n\\nYou'll do things like:\\nEnsure our data warehouse is well structured, running smoothly and efficiently for all business intelligence\\nSet up and maintain various data pipelines used for customer analytics, marketing analytics and product analytics\\nSkills and experience\\n\\nNon negotiables:\\nSQL\\nPython\\nStrong knowledge of traditional relational databases - we don't mind which\\nSome experience with cloud technologies - again we don't mind if it's AWS, GCP or Azure\\nExperience in any streaming technology\\nGreat experience in using third party APIs at scale\\nSome web scraping experience\\nAn obsession with data quality\\nStrong communication skills\\nNice to haves:\\nExperience in working with analysts\\nAny basic knowledge of advanced analytics techniques\\nExperience in a visualisation tool like Tableau\\nJob Types: Full-time, Contract\\n\\nSalary: $100,000.00 /year\\n\\nWork Remotely:\\nYes                                                                                                                                                                                                                                                                                                                                                                                                                                                                                                                                                                                                                                                                                                                                                                                                                                                                                                                                                                                                                                                                                                                                                                                                                                                                                                                                                                                                                                                                                                                                                                                                                                                                                                                                                                                                                                                                                                                                                                                                                                                                                                                                                                                                                                                                                                                                                                                                                                                                                                                                                                                                                                                                                                                                                                                                                                                                                                                                                                                                                                                                                                                                                                                                                                                                                                                                                                                                                                                                                                                                                                                                                                                                                                                                                                                                                                                                                                                                                                                                                                                                                                                                                                                                                                                                                                                                                                                                                                                                                                                                                                                                                                                                                                                                                                                                                                                                                                                                                                                                                                                                                                                                                                                                                                                                                                                                                                                                                                                                                                                                                                                                                                                                                                                                                                                                                                                                                                                                                                                                                                                                                                                                                                                                                                                                                                                                                                                                                                                                                                                                                                                                                                                                                                                                                                                                                                                                                                                                                                                                                                                                                                                                                                                                                                                                                                                                                                                                                                                                                                                                                                                                                                                                                                                                                                                                                                                                                                                                                                                                                                                                                                                                                                                                                                                                                                                                                                                                                                                                                                                                                                                                                                                                                                                                                                                                                                             :  11  \n",
       " Introduction\\nAs a Data Scientist at IBM, you will help transform our clients data into tangible business value by analyzing information, communicating outcomes and collaborating on product development. Work with Best in Class open source and visual tools, along with the most flexible and scalable deployment options. Whether its investigating patient trends or weather patterns, you will work to solve real world problems for the industries transforming how we live.\\n\\nYour Role and Responsibilities\\nQuantum computers are incredibly powerful machines that take a new approach to processing information. Built on the principles of quantum mechanics, they exploit complex and fascinating laws of nature that are always there, but usually remain hidden from view. By harnessing such natural behavior, quantum computers can run new types of algorithms to process information more holistically. They may one day lead to revolutionary breakthroughs in materials and drug discovery, the optimization of complex manmade systems, and artificial intelligence. We expect them to open doors that we once thought would remain locked indefinitely.\\n\\nWhat youll be doing:\\nIBM Services is looking for a Quantum Data Scientist who will interface with research and algorithm experts to implement quantum approaches, which includes data pre-/post-processing, running numerics and visualizing data. Working with quantum industry experts, you will be a key member of a multi-discipline squad focused on building quantum capabilities and researching quantum application development for clients within process sector industries, including chemicals, oil and gas, industrial products and continuous manufacturing.\\nWork with IBM Q Start team on active exploratory research engagements to prepare for future use case commercialization within specific industries\\nInteract with client data science teams to explore promising areas for quantum\\nImplement quantum approaches, which includes data pre-/post-processing, running numerics and visualizing data\\nCollaborate with industry and solutioning experts to design and shape experiments to demonstrate quantum-enabled advantage\\nContribute best practices related to information architecture, including collection, integration, organization, analysis and visualization of data for quantum-enabled impact\\nSupport practice development initiatives focused on building employee knowledge and skills in specific areas of expertise through coaching and development of training course material\\nAt IBM our goal is to be essential to the world, which starts with our people.\\n\\nCareer Growth\\nSkill development: We help our employees develop and grow their foundational skills\\nFinding the dream job at IBM: Endless career paths and advancement opportunities\\nDiversity of people: Commitment to creating a diverse and inclusive culture\\nIBM offers a competitive benefits program, designed to help employees build a solid financial foundation for meeting a diverse array of needs.\\n\\nBenefits\\nâ\\200¢ Parental Bonding/Maternity Leave\\nâ\\200¢ Paid Care Leave\\nâ\\200¢ Healthcare, Dental and Vision\\nâ\\200¢ Flexible Work Hours\\nâ\\200¢ Adoption and Surrogacy Assistance Program\\nâ\\200¢ Employee Discounts\\nâ\\200¢ Worldwide Diversity & Inclusion and Business Resource Groups\\nâ\\200¢ Employee Stock Purchase Plan\\nâ\\200¢ Retirement Plan\\n\\nLearn more about what working at IBM can mean for you!\\nhttp://www-01.ibm.com/employment/us/benefits\\n\\nIBM has been recognized over the years for our ability to innovate and promote a culture of principles and values, using technology as a key element.\\n\\nRecognitions\\nFortune Most Admired Companies\\nDiversityInc. Top 10 Companies for Global Diversity\\nNational Association of Female Executives Top 50 Companies for Female Executives\\nWorking Mother 100 Best Companies\\n2016 Climate Leadership Award\\n\\nRequired Technical and Professional Expertise\\nPhD/Masters in STEM related fields with knowledge in quantum computing.\\n2+ years of data engineering and data science experience\\n1+ year of consulting experience within specific industries\\nFamiliarity with classical approaches for optimization, machine learning and linear algebra, including linear and combinatorial optimization, routing heuristics, classification and clustering technics, numerical simulation, statistics analysis, real time processing\\nFamiliar with Qiskit software, including Qiskit Aqua for domain applications and Qiskit Terra for quantum circuit design and optimization\\nExcellent ideation, facilitation and communications skills\\nDetail-oriented team player with strong interpersonal skills and ability to take a leadership role when necessary\\nEnglish: Fluent\\nMust be willing to travel both domestically and globally up to 40% (Will be required once we return to a travel-safe normal)\\nPreferred Technical and Professional Expertise\\nExperience with linear programming and/or general mathematical programming\\nProficiency in Python with good knowledge of Jupyter, Tensor, Numpy\\nDeep knowledge and application expertise in ML/DL\\nFamiliarity with Qiskit and quantum concepts and principles, able to model classical ML/DL algorithms within quantum principles\\nExperience with some aspect of high-performance computing use within an industry context\\nAbout Business Unit\\nIBM Services is a team of business, strategy and technology consultants that design, build, and run foundational systems and services that is the backbone of the world's economy. IBM Services partners with the world's leading companies in over 170 countries to build smarter businesses by reimagining and reinventing through technology, with its outcome-focused methodologies, industry-leading portfolio and world class research and operations expertise leading to results-driven innovation and enduring excellence.\\n\\nYour Life @ IBM\\nWhat matters to you when youre looking for your next career challenge?\\n\\nMaybe you want to get involved in work that really changes the world? What about somewhere with incredible and diverse career and development opportunities where you can truly discover your passion? Are you looking for a culture of openness, collaboration and trust where everyone has a voice? What about all of these? If so, then IBM could be your next career challenge. Join us, not to do something better, but to attempt things you never thought possible.\\n\\nImpact. Inclusion. Infinite Experiences. Do your best work ever.\\n\\nAbout IBM\\nIBMs greatest invention is the IBMer. We believe that progress is made through progressive thinking, progressive leadership, progressive policy and progressive action. IBMers believe that the application of intelligence, reason and science can improve business, society and the human condition. Restlessly reinventing since 1911, we are the largest technology and consulting employer in the world, with more than 380,000 IBMers serving clients in 170 countries.\\n\\nLocation Statement\\nFor additional information about location requirements, please discuss with the recruiter following submission of your application.\\n\\nBeing You @ IBM\\nIBM is committed to creating a diverse environment and is proud to be an equal opportunity employer. All qualified applicants will receive consideration for employment without regard to race, color, religion, gender, gender identity or expression, sexual orientation, national origin, genetics, disability, age, or veteran status. IBM is also committed to compliance with all fair employment practices regarding citizenship and immigration status.                                                                                                                                                                                                                                                                                                                                                                                                                                                                                                                                                                                                                                                                                                                                                                                                                                                                                                                                                                                                                                                                                                                                                                                                                                                                                                                                                                                                                                                                                                                                                                                                                                                                                                                                                                                                                                                                                                                                                                                                                                                                                                                                                                                                                                                                                                                                                                                                   :  10  \n",
       " Introduction\\nAs an IBM consultant, you directly help clients transform their business and solve complex problems. You will analyze, define, configure, implement, test and support projects that deliver customized solutions using your knowledge of Microsoft. You are a valued team member, serving as a liaison between IBM and our clients to deliver outstanding results.\\n\\nYour Role and Responsibilities\\n\\nIBM Services Microsoft Practice is seeking keen-minded Microsoft Analytics Consulting Specialists. In this job role, the ideal candidate is a consummate business technologist consultant. You will use your business process, data and intelligence tools expertise to provide best-in-class solutions to help clients achieve business objectives. The specialist will collaborate in all aspects of the implementation. This role will work side by side with customer business and IT teams defining and analyzing business requirements. Successful candidates will have experience with data mining, data modeling, process modeling, and a keen insight for translating requirements into a robust design.\\n\\nSkills and experience with creating and delivering production demonstrations is preferred but not required.\\n\\nBe part of a team that is delivering exceptional value by bridging technology and expertise. Collaborate with extraordinary, insightful professionals in an environment that cultivates creativity and individuality.\\n\\nCandidates from all locations considered; however candidates that live in or near one of the following cities preferred: Atlanta, Chicago, Columbus, Houston, Dallas, Raleigh, Washington DC Metro Area, Piscataway, Philadelphia.\\n\\nRWMS\\n\\nRequired Technical and Professional Expertise\\nAt least 2 years of experience in business intelligence consulting and design\\nAt least 2 years of experience in Azure configuration and any combination of Azure Data Factory, Azure Blob Storage, Azure SQL DataWarehouse, Azure Analysis Services, Azure Machine Learning\\nAt least 2 years of experience with PowerBI\\nAt least 3 years of experience with SSIS, SSAS, SSRS\\nAt least 2 years of experience with report data modelling\\nAt least 2 years of experience in ETL technologies\\nMicrosoft certification\\nPreferred Technical and Professional Expertise\\nAt least 3 years of experience in SQL Server, SSIS, SSRS, SSAS\\nAt least 3 years of experience in Azure and/or Jupyter Notebooks\\nAt least 5 years of experience in report modelling\\nAt least 3 years of experience in MDX(SSAS)\\nAt least 2 years of experience in Azure CosmosDB consumption via Web Applications\\nAt least basic experience implementing ERP solutions (i.e. SAP) on Azure\\nAt least basic knowledge with Databricks and/or Azure Databricks (Python/Scala/Spark SQL, SparkR, SparkML, SparklyR, related technologies)\\nMicrosoft Certification in Azure based technology\\nAbout Business Unit\\nIBM Services is a team of business, strategy and technology consultants that design, build, and run foundational systems and services that is the backbone of the world's economy. IBM Services partners with the world's leading companies in over 170 countries to build smarter business by reimagining and reinventing through technology, with its outcome-focused methodologies, industry-leading portfolio and world class research and operations expertise leading to results-driven innovation and enduring excellence.\\n\\nYour Life @ IBM\\nWhat matters to you when youre looking for your next career challenge?\\n\\nMaybe you want to get involved in work that really changes the world? What about somewhere with incredible and diverse career and development opportunities where you can truly discover your passion? Are you looking for a culture of openness, collaboration and trust where everyone has a voice? What about all of these? If so, then IBM could be your next career challenge. Join us, not to do something better, but to attempt things you never thought possible.\\n\\nImpact. Inclusion. Infinite Experiences. Do your best work ever.\\n\\nAbout IBM\\nBENEFITS\\nHealth Insurance. Paid time off. Corporate Holidays. Sick leave. Family planning. Financial Guidance. Competitive 401K. Training and Learning. We continue to expand our benefits and programs, offering some of the best support, guidance and coverage for a diverse employee population.\\n\\nâ\\200¢http://www-01.ibm.com/employment/us/benefits/\\nâ\\200¢https://www-03.ibm.com/press/us/en/pressrelease/50744.wss\\n\\nCAREER GROWTH\\nOur goal is to be essential to the world, which starts with our people. Company wide we kicked off an internal talent strategy program called Go Organic. At our core, we are committed to believing and investing in our workforce through:\\nâ\\200¢Skill development: helping our employees grow their foundational skills\\nâ\\200¢Finding the dream job at IBM: navigating our company with the potential for many careers by channeling an employees strengths and career aspirations\\nâ\\200¢Diversity of people: Diversity of thought driving collective innovation\\n\\nCORPORATE CITIZENSHIP\\nWith an employee population of 375,000 in over 170 countries, amazingly we connect, collaborate, and care. IBMers drive a corporate culture of shared responsibility. We love grand challenges and everyday improvements for our company and for the world. We care about each other, our clients, and the communities we live, work, and play in!\\n\\nâ\\200¢http://www.ibm.com/ibm/responsibility/initiatives.html\\nâ\\200¢http://www.ibm.com/ibm/responsibility/corporateservicecorps\\n\\nLocation Statement\\nFor additional information about location requirements, please discuss with the recruiter following submission of your application.\\n\\nBeing You @ IBM\\nIBM is committed to creating a diverse environment and is proud to be an equal opportunity employer. All qualified applicants will receive consideration for employment without regard to race, color, religion, gender, gender identity or expression, sexual orientation, national origin, genetics, disability, age, or veteran status. IBM is also committed to compliance with all fair employment practices regarding citizenship and immigration status.                                                                                                                                                                                                                                                                                                                                                                                                                                                                                                                                                                                                                                                                                                                                                                                                                                                                                                                                                                                                                                                                                                                                                                                                                                                                                                                                                                                                                                                                                                                                                                                                                                                                                                                                                                                                                                                                                                                                                                                                                                                                                                                                                                                                                                                                                                                                                                                                                                                                                                                                                                                                                                                                                                                                                                                                                                                                                                                                                                                                                                                                                                                                                                                                                                                                                                                                                                                                                                                                                                                                                                                                                                                                                                                                                                                                                                                                                     :   9  \n",
       " *Introduction**As an IBM Application Architect, you directly help clients transform their business and solve complex problems. You will define the scope and vision for projects that deliver customized solutions using your knowledge of IBM platforms. You are a technical leader, serving as a liaison among business partners, technical resources, and project stakeholders.**Your Role and Responsibilities**IBM Services is seeking Microsoft Dynamics Customer Relationship Management (CRM) Data Analysts to collect and analyze requirements and solve client problems using Microsoft Dynamics CRM solutions. You will serve as a liaison between clients and project consultants, particularly during initial project phases. You will work primarily on project execution but may be involved in sales support as well.Microsoft CRM Data Analysts are responsible for identifying, developing and deploying end-user solutions in CRM systems. Using your deep functional knowledge and familiarity with the Microsoft Dynamics CRM application, you will ensure that client business requirements are met while providing a variety of advisory services around project management, business process development, implementation support and end-user training.**Primary Responsibilities:****Project Execution**+ Support the translation of client business requirements into CRM solutions, including requirements approval, communication, traceability and reuse+ Contribute to the transfer of functional requirements to development and test teams+ Use CRM workflow technology to automate business processes+ Stay abreast on updates and new releases in CRM technologies (Microsoft's and its competitors)+ Educate end-users on CRM functions+ Provide end user classroom training on the configured CRM application before go-live and individual training during hyper-support after the cut-over **Sales Support**â\\200¢Help determine and translate customer needs into a solution and approachâ\\200¢Contribute to proposal developmentâ\\200¢Contribute to scope, approach, and estimating input to the proposal teamâ\\200¢Contribute to and participate in client demonstrations and presentations**Additional skills required:**+ Microsoft Office Suite, specifically Microsoft Word, Excel, PowerPoint, and Visio+ Microsoft DevOps+ Familiarity with Microsoft technologies/trends+ Strong analytical, presentation, and writing skillsSkills and experience in creating and delivering production demonstrations is preferred but not required.NOTE: Microsoft Dynamics CRM experience is required for this position**Required Technical and Professional Expertise**+ At least 3 years team lead experience or management experience of 5+ team members (management consultant only)+ At least 2 years project experience in enterprise business application development and delivery (e.g., CRM, ERP, SCM, HCM)+ At least 1 year project implementation experience using Microsoft Dynamics 365, Microsoft Dynamics CRM online, or Microsoft Dynamics CRM 2016, 2015, or 2013+ At least 2 years project experience translating client business needs into software capabilities+ At least 2 years project experience with business requirements analysis and modeling+ At least 2 years project experience creating functional designs, test conditions and test scripts+ At least 2 years experience working within a team environment+ Basic knowledge of software development methodologies (Waterfall and/or Agile)**Preferred Technical and Professional Expertise**+ At least 2 years consulting experience working for a global systems integrator+ Microsoft Certified Professional (MCP)+ At least 1 year project experience working with global and offshore project teams+ At least 1 year experience with system integration or user acceptance testing+ At least 1 year experience with organizational design+ At least 1 year experience with business process design or re-engineering+ At least 1 year experience with developing and implementing end-user training programs+ At least 1 year experience implementing or using CRM systems to support customer service, call center, or field service operations**About Business Unit**IBM Services is a team of business, strategy and technology consultants that design, build, and run foundational systems and services that is the backbone of the world's economy. IBM Services partners with the world's leading companies in over 170 countries to build smarter businesses by reimagining and reinventing through technology, with its outcome-focused methodologies, industry-leading portfolio and world class research and operations expertise leading to results-driven innovation and enduring excellence.**Your Life @ IBM**What matters to you when you're looking for your next career challenge?Maybe you want to get involved in work that really changes the world? What about somewhere with incredible and diverse career and development opportunities - where you can truly discover your passion? Are you looking for a culture of openness, collaboration and trust - where everyone has a voice? What about all of these? If so, then IBM could be your next career challenge. Join us, not to do something better, but to attempt things you never thought possible.Impact. Inclusion. Infinite Experiences. Do your best work ever.**About IBM**IBM's greatest invention is the IBMer. We believe that progress is made through progressive thinking, progressive leadership, progressive policy and progressive action. IBMers believe that the application of intelligence, reason and science can improve business, society and the human condition. Restlessly reinventing since 1911, we are the largest technology and consulting employer in the world, with more than 380,000 IBMers serving clients in 170 countries.**Location Statement**For additional information about location requirements, please discuss with the recruiter following submission of your application.**Being You @ IBM**IBM is committed to creating a diverse environment and is proud to be an equal opportunity employer. All qualified applicants will receive consideration for employment without regard to race, color, religion, gender, gender identity or expression, sexual orientation, national origin, genetics, disability, age, or veteran status. IBM is also committed to compliance with all fair employment practices regarding citizenship and immigration status.                                                                                                                                                                                                                                                                                                                                                                                                                                                                                                                                                                                                                                                                                                                                                                                                                                                                                                                                                                                                                                                                                                                                                                                                                                                                                                                                                                                                                                                                                                                                                                                                                                                                                                                                                                                                                                                                                                                                                                                                                                                                                                                                                                                                                                                                                                                                                                                                                                                                                                                                                                                                                                                                                                                                                                                                                                                                                                                                                                                                                                                                                                                                                                                                                                                                                                                                                                                                                                                                                                                                                                                                                         :   8  \n",
       " (Other)                                                                                                                                                                                                                                                                                                                                                                                                                                                                                                                                                                                                                                                                                                                                                                                                                                                                                                                                                                                                                                                                                                                                                                                                                                                                                                                                                                                                                                                                                                                                                                                                                                                                                                                                                                                                                                                                                                                                                                                                                                                                                                                                                                                                                                                                                                                                                                                                                                                                                                                                                                                                                                                                                                                                                                                                                                                                                                                                                                                                                                                                                                                                                                                                                                                                                                                                                                                                                                                                                                                                                                                                                                                                                                                                                                                                                                                                                                                                                                                                                                                                                                                                                                                                                                                                                                                                                                                                                                                                                                                                                                                                                                                                                                                                                                                                                                                                                                                                                                                                                                                                                                                                                                                                                                                                                                                                                                                                                                                                                                                                                                                                                                                                                                                                                                                                                                                                                                                                                                                                                                                                                                                                                                                                                                                                                                                                                                                                                                                                                                                                                                                                                                                                                                                                                                                                                                                                                                                                                                                                                                                                                                                                                                                                                                                                                                                                                                                                                                                                                                                                                                                                                                                                                                                                                                                                                                                                                                                                                                                                                                                                                                                                                                                                                                                                                                                                                                                                                                                                                                                                                                                                                                                                                                                                                                                                                                                                                                                                                                                                                                                                                                                                                                                                                                                                                                                                                                                                                                                                                                                                                                                                                                                                                                                                                                                                                                                                                                                                                                                                                                                                                                                                                                                                                        :8623  \n",
       "     Rating                                    Company.Name  \n",
       " Min.   :-1.00   Apple\\n4.1                           :  88  \n",
       " 1st Qu.: 3.20   Staffigo Technical Services, LLC\\n5.0:  86  \n",
       " Median : 3.70   Amazon\\n3.9                          :  78  \n",
       " Mean   : 3.28   IBM\\n3.7                             :  64  \n",
       " 3rd Qu.: 4.10   Diverse Lynx\\n3.9                    :  62  \n",
       " Max.   : 5.00   Kforce\\n4.1                          :  41  \n",
       "                 (Other)                              :8271  \n",
       "            Location           Headquarters                      Size     \n",
       " New York, NY   : 800   New York, NY : 681   10000+ employees      :1925  \n",
       " Chicago, IL    : 652   -1           : 536   51 to 200 employees   :1373  \n",
       " Austin, TX     : 625   Chicago, IL  : 332   1001 to 5000 employees:1286  \n",
       " San Diego, CA  : 561   San Diego, CA: 308   1 to 50 employees     :1260  \n",
       " Houston, TX    : 490   Austin, TX   : 202   201 to 500 employees  : 939  \n",
       " San Antonio, TX: 412   Houston, TX  : 182   501 to 1000 employees : 765  \n",
       " (Other)        :5150   (Other)      :6449   (Other)               :1142  \n",
       "    Founded                          Type.of.ownership\n",
       " Min.   :  -1   Company - Private             :4598   \n",
       " 1st Qu.:  -1   Company - Public              :2320   \n",
       " Median :1983   -1                            : 511   \n",
       " Mean   :1474   Nonprofit Organization        : 379   \n",
       " 3rd Qu.:2002   Subsidiary or Business Segment: 375   \n",
       " Max.   :2020   Government                    : 149   \n",
       "                (Other)                       : 358   \n",
       "                             Industry                          Sector    \n",
       " -1                              :1277   Information Technology   :2584  \n",
       " IT Services                     :1152   Business Services        :1619  \n",
       " Staffing & Outsourcing          : 838   -1                       :1274  \n",
       " Computer Hardware & Software    : 619   Finance                  : 616  \n",
       " Internet                        : 448   Health Care              : 399  \n",
       " Health Care Services & Hospitals: 399   Biotech & Pharmaceuticals: 361  \n",
       " (Other)                         :3957   (Other)                  :1837  \n",
       "                       Revenue    \n",
       " Unknown / Non-Applicable  :2492  \n",
       " $10+ billion (USD)        :1181  \n",
       " $100 to $500 million (USD): 830  \n",
       " $50 to $100 million (USD) : 563  \n",
       " -1                        : 511  \n",
       " $2 to $5 billion (USD)    : 475  \n",
       " (Other)                   :2638  \n",
       "                                 Competitors   Easy.Apply  job.category\n",
       " -1                                    :6241   -1  :8300   DA:2253     \n",
       " Google, Microsoft, Samsung Electronics:  88   True: 390   DS:3909     \n",
       " Google, Microsoft, Walmart            :  78               DE:2528     \n",
       " Amazon, Accenture, Microsoft          :  68                           \n",
       " Cigna, Aetna, UnitedHealth Group      :  36                           \n",
       " Google, Microsoft, Apple              :  33                           \n",
       " (Other)                               :2146                           "
      ]
     },
     "metadata": {},
     "output_type": "display_data"
    }
   ],
   "source": [
    "summary(Data)"
   ]
  },
  {
   "cell_type": "code",
   "execution_count": 29,
   "metadata": {
    "scrolled": true
   },
   "outputs": [
    {
     "name": "stdout",
     "output_type": "stream",
     "text": [
      "'data.frame':\t8690 obs. of  16 variables:\n",
      " $ Job.Title        : Factor w/ 3973 levels \"#104252 Division Data and Financial Analyst\",..: 432 905 1030 226 923 226 165 575 226 441 ...\n",
      " $ Salary.Estimate  : Factor w/ 318 levels \"-1\",\"$110K-$190K (Glassdoor est.)\",..: 19 19 19 19 19 19 19 19 19 19 ...\n",
      " $ Job.Description  : Factor w/ 6998 levels \"--- This is a 3-6 month full-time internship opening ---\\n\\nDo you love data?\\n\\nAre you passionate about drivi\"| __truncated__,..: 180 1419 2197 1674 71 67 2101 496 1935 121 ...\n",
      " $ Rating           : num  3.2 3.8 3.4 4.1 3.9 3.9 4.4 3.7 4 4.4 ...\n",
      " $ Company.Name     : Factor w/ 3627 levels \"\",\"1\",\"1199SEIU Funds\\n3.2\",..: 1425 1448 1210 239 483 1007 1370 556 395 1089 ...\n",
      " $ Location         : Factor w/ 334 levels \"Addison, TX\",..: 155 155 155 155 155 155 155 155 155 155 ...\n",
      " $ Headquarters     : Factor w/ 816 levels \"-1\",\"Abbott Park, IL\",..: 293 293 293 250 293 414 293 293 235 293 ...\n",
      " $ Size             : Factor w/ 9 levels \"-1\",\"1 to 50 employees\",..: 5 3 4 5 7 4 4 5 6 7 ...\n",
      " $ Founded          : int  1961 1893 2003 2002 2009 2014 2001 1914 1896 2013 ...\n",
      " $ Type.of.ownership: Factor w/ 15 levels \"-1\",\"College / University\",..: 9 9 3 14 3 3 3 3 4 3 ...\n",
      " $ Industry         : Factor w/ 109 levels \"-1\",\"Accounting\",..: 73 44 52 54 75 53 53 51 87 71 ...\n",
      " $ Sector           : Factor w/ 26 levels \"-1\",\"Accounting & Legal\",..: 18 12 13 13 4 10 10 14 10 6 ...\n",
      " $ Revenue          : Factor w/ 14 levels \"-1\",\"$1 to $2 billion (USD)\",..: 6 7 14 11 6 14 14 6 2 14 ...\n",
      " $ Competitors      : Factor w/ 677 levels \"-1\",\"Abbott, Siemens, Baxter\",..: 1 1 133 1 107 1 1 274 271 242 ...\n",
      " $ Easy.Apply       : Factor w/ 2 levels \"-1\",\"True\": 2 1 1 1 2 1 1 2 1 1 ...\n",
      " $ job.category     : Factor w/ 3 levels \"DA\",\"DS\",\"DE\": 1 1 1 1 1 1 1 1 1 1 ...\n"
     ]
    }
   ],
   "source": [
    "str(Data)"
   ]
  },
  {
   "cell_type": "code",
   "execution_count": 30,
   "metadata": {
    "scrolled": true
   },
   "outputs": [
    {
     "name": "stdout",
     "output_type": "stream",
     "text": [
      " [1] \"Job.Title\"         \"Salary.Estimate\"   \"Job.Description\"  \n",
      " [4] \"Rating\"            \"Company.Name\"      \"Location\"         \n",
      " [7] \"Headquarters\"      \"Size\"              \"Founded\"          \n",
      "[10] \"Type.of.ownership\" \"Industry\"          \"Sector\"           \n",
      "[13] \"Revenue\"           \"Competitors\"       \"Easy.Apply\"       \n",
      "[16] \"job.category\"     \n"
     ]
    }
   ],
   "source": [
    "print(names(Data))"
   ]
  },
  {
   "cell_type": "markdown",
   "metadata": {},
   "source": [
    "<span style=\"color: red;font-size:30px;\">3 Discovering each column in\n",
    "detail</span>\n",
    "\n",
    "### Job Title"
   ]
  },
  {
   "cell_type": "code",
   "execution_count": 31,
   "metadata": {
    "scrolled": true
   },
   "outputs": [
    {
     "name": "stdout",
     "output_type": "stream",
     "text": [
      " [1] Data Analyst, Center on Immigration and Justice (CIJ)               \n",
      " [2] Quality Data Analyst                                                \n",
      " [3] Senior Data Analyst, Insights & Analytics Team [Customer Operations]\n",
      " [4] Data Analyst                                                        \n",
      " [5] Reporting Data Analyst                                              \n",
      " [6] Data Analyst                                                        \n",
      " [7] Business/Data Analyst (FP&A)                                        \n",
      " [8] Data Science Analyst                                                \n",
      " [9] Data Analyst                                                        \n",
      "[10] Data Analyst, Merchant Health                                       \n"
     ]
    }
   ],
   "source": [
    "print(Data$Job.Title[1:10],max.levels=0);"
   ]
  },
  {
   "cell_type": "markdown",
   "metadata": {},
   "source": [
    "### Salary Estimate"
   ]
  },
  {
   "cell_type": "code",
   "execution_count": 32,
   "metadata": {
    "scrolled": true
   },
   "outputs": [
    {
     "name": "stdout",
     "output_type": "stream",
     "text": [
      " [1] $46K-$87K (Glassdoor est.) $46K-$87K (Glassdoor est.)\n",
      " [3] $46K-$87K (Glassdoor est.) $46K-$87K (Glassdoor est.)\n",
      " [5] $46K-$87K (Glassdoor est.) $46K-$87K (Glassdoor est.)\n",
      " [7] $46K-$87K (Glassdoor est.) $46K-$87K (Glassdoor est.)\n",
      " [9] $46K-$87K (Glassdoor est.) $46K-$87K (Glassdoor est.)\n",
      "[11] $46K-$87K (Glassdoor est.) $51K-$88K (Glassdoor est.)\n",
      "[13] $51K-$88K (Glassdoor est.) $51K-$88K (Glassdoor est.)\n",
      "[15] $51K-$88K (Glassdoor est.) $51K-$88K (Glassdoor est.)\n"
     ]
    }
   ],
   "source": [
    "print(Data$Salary.Estimate[50:65],max.levels=0);"
   ]
  },
  {
   "cell_type": "markdown",
   "metadata": {},
   "source": [
    "### Job Description"
   ]
  },
  {
   "cell_type": "code",
   "execution_count": 33,
   "metadata": {},
   "outputs": [
    {
     "name": "stdout",
     "output_type": "stream",
     "text": [
      "[1] Are you eager to roll up your sleeves and harness data to drive policy change? Do you enjoy sifting through complex datasets to illuminate trends and insights? Do you see yourself working for a values-driven organization with a vision to tackle the most pressing injustices of our day?\\n\\nWe are looking to hire a bright, hard-working, and creative individual with strong data management skills and a demonstrated commitment to immigrant's rights. The Data Analyst will assist with analysis and reporting needs for Veras Center on Immigration and Justice (CIJ), working across its current projects and future Vera initiatives.\\n\\nWho we are:\\n\\nFounded in 1961, The Vera Institute is an independent, non-partisan, nonprofit organization that combines expertise in research, technical assistance, and demonstration projects to assist leaders in government and civil society examine justice policy and practice, and improve the systems people rely on for justice and safety.\\nWe study problems that impede human dignity and justice.\\nWe pilot solutions that are at once transformative and achievable.\\nWe engage diverse communities in informed debate.\\nAnd we harness the power of evidence to drive effective policy and practice\\nWhat were doing:\\n\\nWe are helping to build a movementamong government leaders, advocates, and the immigration legal services communitytowards universal legal representation for immigrants facing deportation. In the face of stepped-up immigration enforcement, millions of non-citizens are at risk of extended detention and permanent separation from their families and communities. Veras Center on Immigration and Justice (CIJ) partners with government, non-profit partners, and communities to improve government systems that affect immigrants and their families. CIJ administers several nationwide legal services programs for immigrants facing deportation, develops and implements pilot programs, provides technical assistance, and conducts independent research and evaluation.\\n\\nThats where you come in:\\nThe Data Analyst will support the Centers programmatic efforts through regular monitoring and reporting of federal government and subcontractor data. CIJ manages several proprietary databases that run on AWS and Caspio and uses SQL, R, and Python to manage data. This is an opportunity to help shape an innovative national research and policy agenda as part of a dedicated team of experts working to improve access to justice for non-citizens.\\n\\nVera seeks to hire a Data Analyst to work on various data management projects with its Center on Immigration and Justice (CIJ). In collaboration with other Data Analysts, this position will involve work across several projects, such as the Unaccompanied Childrens Program (UCP), a program to increase legal representation for immigrant children facing deportation without a parent or legal guardian. The position may cover additional duties for the Legal Orientation Program for Custodians (LOPC), which educates the custodians of unaccompanied children about their rights and the immigration court process.\\n\\nAbout the role:\\n\\nAs a Data Analyst, you will report to a member of the research team and work in close collaboration with other Vera staff on ongoing database management, monitoring, reporting, and analysis projects. Youll support the team by taking ownership of ongoing monitoring and reporting tasks involving large data sets. Other principal responsibilities will include:\\nSupporting research staff by preparing large datasets for analysis, including merging, cleaning, and recoding data;\\nProviding insights into program performance through summary statistics and performance indicators;\\nProducing timely reports on Vera projects for team members and stakeholders;\\nImproving recurring reporting processes by optimizing code and producing subsequent documentation;\\nCoordinating database management tasks such as participating in new database design, modifying existing databases, and communicating with outside engineers and subcontractors;\\nDeveloping codebooks and delivering user trainings through webinars and database guides;\\nBuilding and maintaining interactive dashboards;\\nDocumenting and correcting data quality issues;\\nWorking with supervisors to prioritize program needs;\\nAssisting on other projects and tasks as assigned.\\nAbout you:\\n\\nYoure committed to improving issues affecting immigrants in the United States. Applicants with personal experiences with the immigration system are especially encouraged to apply.\\n\\nYoure just getting started in your career and have 1 2 years of professional or internship experience working with large datasets and preparing data for analysis.\\n\\nYou have a real enthusiasm for working with data.\\n\\nYou are comfortable writing queries in SQL, R, and/or Python, or have a solid foundation coding in other programming languages used to manipulate data. Experience working collaboratively using tools like Git/GitHub is a plus.\\n\\nYou have exceptional attention to detail, strong problem-solving ability and logical reasoning skills, and the ability to detect anomalies in data.\\n\\nYoure able to work on multiple projects effectively and efficiently, both independently and collaboratively with a team.\\n\\nThis position involves working with secure data that may require government security clearance. That clearance is restricted to U.S. citizens and citizens of countries that are party to collective defense agreements with the U.S. The list of those countries is detailed on this webpage. An additional requirement of that clearance is residence in the United States for at least three of the last five years.\\n\\nHow to apply:\\n\\nPlease submit cover letter and resume. Applications will be considered on a rolling basis until position is filled. Online submission in PDF format is preferred. Applications with no cover letter attached will not be considered. The cover letter should address your interest in CIJ and this position.\\n\\nHowever, if necessary, materials may be mailed or faxed to\\n\\nATTN: Human Resources / CIJ Data Analyst Recruitment\\n\\nVera Institute of Justice\\n\\n34 35th St, Suite 4-2A\\n\\nBrooklyn, NY 11232\\n\\nFax: (212) 941-9407\\n\\nPlease use only one method (online, mail or fax) of submission.\\n\\nNo phone calls, please. Only applicants selected for interviews will be contacted.\\n\\nVera is an equal opportunity/affirmative action employer. All qualified applicants will be considered for employment without unlawful discrimination based on race, color, creed, national origin, sex, age, disability, marital status, sexual orientation, military status, prior record of arrest or conviction, citizenship status, current employment status, or caregiver status.\\n\\nVera works to advance justice, particularly racial justice, in an increasingly multicultural country and globally connected world. We value diverse experiences, including with regard to educational background and justice system contact, and depend on a diverse staff to carry out our mission.\\n\\nFor more information about Vera and CIJs work, please visit www.vera.org.\\n\\nPowered by JazzHR\n"
     ]
    }
   ],
   "source": [
    "print(Data$Job.Description[1],max.levels=0);"
   ]
  },
  {
   "cell_type": "markdown",
   "metadata": {},
   "source": [
    "### Rating"
   ]
  },
  {
   "cell_type": "code",
   "execution_count": 34,
   "metadata": {
    "scrolled": true
   },
   "outputs": [
    {
     "name": "stdout",
     "output_type": "stream",
     "text": [
      " [1]  3.2  3.8  3.4  4.1  3.9  4.4  3.7  4.0 -1.0  3.0  3.6  4.9  3.3  3.5  5.0\n",
      "[16]  4.8  4.7  4.6  2.9  1.0  3.1  4.5  2.3  4.2  2.8  4.3  2.7  2.5  2.6  2.4\n",
      "[31]  2.0  2.1  1.7  2.2  1.8  1.6  1.9  1.5\n"
     ]
    }
   ],
   "source": [
    "print(unique(Data$Rating))"
   ]
  },
  {
   "cell_type": "markdown",
   "metadata": {},
   "source": [
    "### Location"
   ]
  },
  {
   "cell_type": "code",
   "execution_count": 35,
   "metadata": {
    "scrolled": true
   },
   "outputs": [
    {
     "name": "stdout",
     "output_type": "stream",
     "text": [
      " [1] New York, NY         Fairfield, NJ        Jersey City, NJ     \n",
      " [4] Brooklyn, NY         Weehawken, NJ        Long Island City, NY\n",
      " [7] Florham Park, NJ     Manhasset, NY        Newark, NJ          \n",
      "[10] Queens Village, NY  \n"
     ]
    }
   ],
   "source": [
    "print(unique(Data$Location)[1:10],max.levels=0);"
   ]
  },
  {
   "cell_type": "markdown",
   "metadata": {},
   "source": [
    "### Headquarters"
   ]
  },
  {
   "cell_type": "code",
   "execution_count": 36,
   "metadata": {
    "scrolled": true
   },
   "outputs": [
    {
     "name": "stdout",
     "output_type": "stream",
     "text": [
      " [1] New York, NY           McLean, VA             Stamford, CT          \n",
      " [4] London, United Kingdom -1                     Bronx, NY             \n",
      " [7] Phoenix, AZ            Rome, NY               Waltham, MA           \n",
      "[10] Mountain View, CA     \n"
     ]
    }
   ],
   "source": [
    "print(unique(Data$Headquarters)[1:10],max.levels=0);"
   ]
  },
  {
   "cell_type": "markdown",
   "metadata": {},
   "source": [
    "### Size"
   ]
  },
  {
   "cell_type": "code",
   "execution_count": 37,
   "metadata": {
    "scrolled": true
   },
   "outputs": [
    {
     "name": "stdout",
     "output_type": "stream",
     "text": [
      "[1] 201 to 500 employees    10000+ employees        1001 to 5000 employees \n",
      "[4] 501 to 1000 employees   5001 to 10000 employees 1 to 50 employees      \n",
      "[7] 51 to 200 employees     Unknown                 -1                     \n"
     ]
    }
   ],
   "source": [
    "print(unique(Data$Size),max.levels=0);"
   ]
  },
  {
   "cell_type": "markdown",
   "metadata": {},
   "source": [
    "### Founded"
   ]
  },
  {
   "cell_type": "code",
   "execution_count": 38,
   "metadata": {
    "scrolled": true
   },
   "outputs": [
    {
     "name": "stdout",
     "output_type": "stream",
     "text": [
      " [1] 1961 1893 2003 2002 2009 2014 2001 1914 1896 2013\n"
     ]
    }
   ],
   "source": [
    "print(unique(Data$Founded)[1:10],max.levels=0);"
   ]
  },
  {
   "cell_type": "markdown",
   "metadata": {},
   "source": [
    "### Ownership"
   ]
  },
  {
   "cell_type": "code",
   "execution_count": 39,
   "metadata": {
    "scrolled": true
   },
   "outputs": [
    {
     "name": "stdout",
     "output_type": "stream",
     "text": [
      " [1] Nonprofit Organization         Company - Private             \n",
      " [3] Subsidiary or Business Segment Company - Public              \n",
      " [5] Hospital                       Unknown                       \n",
      " [7] Contract                       -1                            \n",
      " [9] Government                     School / School District      \n",
      "[11] Other Organization             College / University          \n",
      "[13] Self-employed                  Private Practice / Firm       \n",
      "[15] Franchise                     \n"
     ]
    }
   ],
   "source": [
    "print(unique(Data$Type.of.ownership),max.levels=0);"
   ]
  },
  {
   "cell_type": "markdown",
   "metadata": {},
   "source": [
    "### Industry"
   ]
  },
  {
   "cell_type": "code",
   "execution_count": 40,
   "metadata": {
    "scrolled": true
   },
   "outputs": [
    {
     "name": "stdout",
     "output_type": "stream",
     "text": [
      " [1] Social Assistance                     Health Care Services & Hospitals     \n",
      " [3] Internet                              IT Services                          \n",
      " [5] Sports & Recreation                   Investment Banking & Asset Management\n",
      " [7] Insurance Carriers                    Venture Capital & Private Equity     \n",
      " [9] Research & Development                -1                                   \n"
     ]
    }
   ],
   "source": [
    "print(unique(Data$Industry)[1:10],max.levels=0);"
   ]
  },
  {
   "cell_type": "markdown",
   "metadata": {},
   "source": [
    "### Sector"
   ]
  },
  {
   "cell_type": "code",
   "execution_count": 41,
   "metadata": {
    "scrolled": true
   },
   "outputs": [
    {
     "name": "stdout",
     "output_type": "stream",
     "text": [
      " [1] Non-Profit                        Health Care                      \n",
      " [3] Information Technology            Arts, Entertainment & Recreation \n",
      " [5] Finance                           Insurance                        \n",
      " [7] Business Services                 -1                               \n",
      " [9] Restaurants, Bars & Food Services Media                            \n"
     ]
    }
   ],
   "source": [
    "print(unique(Data$Sector)[1:10],max.levels=0);"
   ]
  },
  {
   "cell_type": "markdown",
   "metadata": {},
   "source": [
    "### Revenue"
   ]
  },
  {
   "cell_type": "code",
   "execution_count": 42,
   "metadata": {
    "scrolled": true
   },
   "outputs": [
    {
     "name": "stdout",
     "output_type": "stream",
     "text": [
      " [1] $100 to $500 million (USD)       $2 to $5 billion (USD)          \n",
      " [3] Unknown / Non-Applicable         $50 to $100 million (USD)       \n",
      " [5] $1 to $2 billion (USD)           $5 to $10 billion (USD)         \n",
      " [7] $1 to $5 million (USD)           $25 to $50 million (USD)        \n",
      " [9] $10+ billion (USD)               Less than $1 million (USD)      \n",
      "[11] $10 to $25 million (USD)         -1                              \n",
      "[13] $500 million to $1 billion (USD) $5 to $10 million (USD)         \n"
     ]
    }
   ],
   "source": [
    "print(unique(Data$Revenue),max.levels=0);"
   ]
  },
  {
   "cell_type": "markdown",
   "metadata": {},
   "source": [
    "### Competitors"
   ]
  },
  {
   "cell_type": "code",
   "execution_count": 43,
   "metadata": {
    "scrolled": true
   },
   "outputs": [
    {
     "name": "stdout",
     "output_type": "stream",
     "text": [
      "[1] -1                               GoDaddy                         \n",
      "[3] DraftKings                       Travelers, Chubb, Crum & Forster\n",
      "[5] Thomson Reuters, Hearst, Pearson Signifyd, Forter                \n"
     ]
    }
   ],
   "source": [
    "print(unique(Data$Competitors[1:10]),max.levels=0);"
   ]
  },
  {
   "cell_type": "markdown",
   "metadata": {},
   "source": [
    "### Easy to Apply"
   ]
  },
  {
   "cell_type": "code",
   "execution_count": 44,
   "metadata": {
    "scrolled": true
   },
   "outputs": [
    {
     "name": "stdout",
     "output_type": "stream",
     "text": [
      "[1] True -1  \n"
     ]
    }
   ],
   "source": [
    "print(unique(Data$Easy.Apply),max.levels=0);"
   ]
  },
  {
   "cell_type": "markdown",
   "metadata": {},
   "source": [
    "<span style=\"color: red;font-size:30px;\">4 Data cleaning and\n",
    "preparation</span>\n",
    "\n",
    "### Remove (Putting a mark) incorrect data"
   ]
  },
  {
   "cell_type": "code",
   "execution_count": 45,
   "metadata": {
    "scrolled": true
   },
   "outputs": [],
   "source": [
    "Data[Data == \"-1\"] <- NA\n",
    "Data[Data == -1] <- NA\n",
    "Data[Data == \"Unknown\"] <- NA\n",
    "Data[Data == \"Unknown / Non-Applicable\"] <- NA"
   ]
  },
  {
   "cell_type": "markdown",
   "metadata": {},
   "source": [
    "### Create columns to record the skills in it"
   ]
  },
  {
   "cell_type": "code",
   "execution_count": 46,
   "metadata": {
    "scrolled": true
   },
   "outputs": [],
   "source": [
    "Data <- Data %>%\n",
    "        add_column(Python = NA) %>% \n",
    "        add_column(R = NA) %>% \n",
    "        add_column(SQL = NA) %>%\n",
    "        add_column(Spark = NA) %>%\n",
    "        add_column(Excel = NA) %>%\n",
    "        add_column(PowerBI = NA) %>%\n",
    "        add_column(Git = NA) %>%\n",
    "        add_column(GitHub = NA)"
   ]
  },
  {
   "cell_type": "markdown",
   "metadata": {},
   "source": [
    "### Text processing to extract skills from the job description"
   ]
  },
  {
   "cell_type": "code",
   "execution_count": 47,
   "metadata": {
    "scrolled": true
   },
   "outputs": [],
   "source": [
    "generalConvertor <- function(description,skill){\n",
    "  lower_description = tolower(description)\n",
    "  exist = grepl(skill, lower_description)\n",
    "  return(ifelse(exist,1,0))\n",
    "}\n",
    "\n",
    "R_Convertor <- function(description){\n",
    "  lower_description = tolower(description)\n",
    "  con1 = grepl(\" r \", lower_description)\n",
    "  con2 = grepl(\", r \", lower_description)\n",
    "  con3 = grepl(\" r,\", lower_description)\n",
    "  return(ifelse( (con1 | con2 | con3) ,1,0))\n",
    "}\n",
    "\n",
    "\n",
    "Data[c(\"Python\")]  <- lapply(Data[\"Job.Description\"], generalConvertor, skill=\"python\")\n",
    "\n",
    "Data[c(\"R\")]       <- lapply(Data[\"Job.Description\"], R_Convertor)\n",
    "\n",
    "Data[c(\"SQL\")]     <- lapply(Data[\"Job.Description\"], generalConvertor, skill=\"sql\")\n",
    "Data[c(\"Spark\")]   <- lapply(Data[\"Job.Description\"], generalConvertor, skill=\"spark\")\n",
    "Data[c(\"Excel\")]   <- lapply(Data[\"Job.Description\"], generalConvertor, skill=\"excel\")\n",
    "Data[c(\"PowerBI\")] <- lapply(Data[\"Job.Description\"], generalConvertor, skill=\"power bi\")\n",
    "Data[c(\"Git\")]     <- lapply(Data[\"Job.Description\"], generalConvertor, skill=\"git\")\n",
    "Data[c(\"GitHub\")]  <- lapply(Data[\"Job.Description\"], generalConvertor, skill=\"github\")"
   ]
  },
  {
   "cell_type": "markdown",
   "metadata": {},
   "source": [
    "### Create columns to record the Beginning Salary and the Ending Salary"
   ]
  },
  {
   "cell_type": "code",
   "execution_count": 48,
   "metadata": {
    "scrolled": true
   },
   "outputs": [],
   "source": [
    "Data <- Data %>%\n",
    "        add_column(BeginningSalary =  NA) %>% \n",
    "        add_column(EndingSalary =  NA)  "
   ]
  },
  {
   "cell_type": "markdown",
   "metadata": {},
   "source": [
    "### Text processing to extractthe Beginning Salary and the Ending Salary (using regular expressions)"
   ]
  },
  {
   "cell_type": "code",
   "execution_count": 49,
   "metadata": {
    "scrolled": true
   },
   "outputs": [],
   "source": [
    "extractSalary <- function(text_salary,lim){\n",
    " gfg_numbers <- regmatches( text_salary, gregexpr(\"[[:digit:]]+\", text_salary) )\n",
    " return(as.numeric(unlist(gfg_numbers)[lim])*1000)\n",
    "}\n",
    "\n",
    "Data[c(\"BeginningSalary\")]  <- apply(Data[\"Salary.Estimate\"],1, extractSalary,lim=1)\n",
    "Data[c(\"EndingSalary\")]    <- apply(Data[\"Salary.Estimate\"], 1,extractSalary, lim=2)"
   ]
  },
  {
   "cell_type": "markdown",
   "metadata": {},
   "source": [
    "### Create columns to record the state"
   ]
  },
  {
   "cell_type": "code",
   "execution_count": 50,
   "metadata": {
    "scrolled": true
   },
   "outputs": [],
   "source": [
    "Data <- Data %>%\n",
    "        add_column(US.postal.abbreviation =  NA) "
   ]
  },
  {
   "cell_type": "markdown",
   "metadata": {},
   "source": [
    "### Text processing by cutting the US postal abbreviation"
   ]
  },
  {
   "cell_type": "code",
   "execution_count": 51,
   "metadata": {
    "scrolled": true
   },
   "outputs": [],
   "source": [
    "extractCode <- function(a) {\n",
    "  \n",
    "   exist = grepl(\"United Kingdom\", a)\n",
    "  if(exist){\n",
    "    return(NA)\n",
    "  }else{\n",
    "  code = substr(a , nchar(a)-1 , nchar(a))\n",
    "  return(code)\n",
    "  }\n",
    "}   \n",
    "\n",
    "Data[c(\"US.postal.abbreviation\")]  <- apply(Data[\"Location\"],1, extractCode)\n",
    "Data$US.postal.abbreviation= as.factor(Data$US.postal.abbreviation)"
   ]
  },
  {
   "cell_type": "markdown",
   "metadata": {},
   "source": [
    "### Look again to dimensions"
   ]
  },
  {
   "cell_type": "code",
   "execution_count": 52,
   "metadata": {
    "scrolled": true
   },
   "outputs": [
    {
     "data": {
      "text/html": [
       "<ol class=list-inline>\n",
       "\t<li>8690</li>\n",
       "\t<li>27</li>\n",
       "</ol>\n"
      ],
      "text/latex": [
       "\\begin{enumerate*}\n",
       "\\item 8690\n",
       "\\item 27\n",
       "\\end{enumerate*}\n"
      ],
      "text/markdown": [
       "1. 8690\n",
       "2. 27\n",
       "\n",
       "\n"
      ],
      "text/plain": [
       "[1] 8690   27"
      ]
     },
     "metadata": {},
     "output_type": "display_data"
    }
   ],
   "source": [
    "dim(Data)"
   ]
  },
  {
   "cell_type": "code",
   "execution_count": 53,
   "metadata": {
    "scrolled": false
   },
   "outputs": [
    {
     "data": {
      "text/plain": [
       "                Job.Title                       Salary.Estimate\n",
       " Data Engineer       : 729   $60K-$124K (Glassdoor est.):  62  \n",
       " Data Analyst        : 656   $93K-$151K (Glassdoor est.):  62  \n",
       " Data Scientist      : 282   $94K-$166K (Glassdoor est.):  62  \n",
       " Senior Data Engineer: 140   $60K-$109K (Glassdoor est.):  62  \n",
       " Senior Data Analyst : 137   $43K-$76K (Glassdoor est.) :  61  \n",
       " Big Data Engineer   : 114   (Other)                    :8380  \n",
       " (Other)             :6632   NA's                       :   1  \n",
       "                                                                                                                                                                                                                                                                                                                                                                                                                                                                                                                                                                                                                                                                                                                                                                                                                                                                                                                                                                                                                                                                                                                                                                                                                                                                                                                                                                                                                                                                                                                                                                                                                                                                                                                                                                                                                                                                                                                                                                                                                                                                                                                                                                                                                                                                                                                                                                                                                                                                                                                                                                                                                                                                                                                                                                                                                                                                                                                                                                                                                                                                                                                                                                                                                                                                                                                                                                                                                                                                                                                                                                                                                                                                                                                                                                                                                                                                                                                                                                                                                                                                                                                                                                                                                                                                                                                                                                                                                                                                                                                                                                                                                                                                                                                                                                                                                                                                                                                                                                                                                                                                                                                                                                                                                                                                                                                                                                                                                                                                                                                                                                                                                                                                                                                                                                                                                                                                                                                                                                                                                                                                                                                                                                                                                                                                                                                                                                                                                                                                                                                                                                                                                                                                                                                                                                                                                                                                                                                                                                                                                                                                                                                                                                                                                                                                                                                                                                                                                                                                                                                                                                                                                                                                                                                                                                                                                                                                                                                                                                                                                                                                                                                                                                                                                                                                                                                                                                                                                                                                                                                                                                                                                                                                                                                                                                                                                                                                                                                                                                                                                                                                                                                                                                                                                                                                                                                                                                                                                                                                                                                                                                                                                                                                                                                                                                                                                                                                                                                                                                                                                                                                                                                                                                                                            Job.Description            \n",
       " Organization: Accenture Federal Services\\n\\nLocation: Chantilly, VA\\n\\nAccenture Federal Services, a wholly owned subsidiary of Accenture LLP, is a U.S. company with offices in Arlington, Virginia. Accenture's federal business has served every cabinet-level department and 30 of the largest federal organizations. Accenture Federal Services transforms bold ideas into breakthrough outcomes for clients at defense, intelligence, public safety, civilian and military health organizations.\\n\\nWe believe that great outcomes are everything. It's what drives us to turn bold ideas into breakthrough solutions. By combining digital technologies with what works across the world's leading businesses, we use agile approaches to help clients solve their toughest problems fast-the first time. So, you can deliver what matters most.\\n\\nCount on us to help you embrace new ways of working, building for change and put customers at the core. A wholly owned subsidiary of Accenture, we bring over 30 years of experience serving the federal government, including every cabinet-level department. Our 7,200 dedicated colleagues and change makers work with our clients at the heart of the nation's priorities in defense, intel, public safety, health and civilian to help you make a difference for the people you employ, serve and protect.\\n\\nJob Description:\\n\\nWork directly with the client gathering requirements to analyze, design and/or implement technology best practice business changes to technology with business strategy and goals.                                                                                                                                                                                                                                                                                                                                                                                                                                                                                                                                                                                                                                                                                                                                                                                                                                                                                                                                                                                                                                                                                                                                                                                                                                                                                                                                                                                                                                                                                                                                                                                                                                                                                                                                                                                                                                                                                                                                                                                                                                                                                                                                                                                                                                                                                                                                                                                                                                                                                                                                                                                                                                                                                                                                                                                                                                                                                                                                                                                                                                                                                                                                                                                                                                                                                                                                                                                                                                                                                                                                                                                                                                                                                                                                                                                                                                                                                                                                                                                                                                                                                                                                                                                                                                                                                                                                                                                                                                                                                                                                                                                                                                                                                                                                                                                                                                                                                                                                                                                                                                                                                                                                                                                                                                                                                                                                                                                                                                                                                                                                                                                                                                                                                                                                                                                                                                                                                                                                                                                                                                                                                                                                                                                                                                                                                                                                                                                                                                                                                                                                                                                                                                                                                                                                                                                                                                                                                                                                                                                                                                                                                                                                                                                                                                                                                                                                                                                                                                                                                                                                                                                                                                                                                                                                                                                                                                                                                                                                                                                                                                                                                                                                                                                                                                                                                                                                                                                                                                                                                                                                                                                                                                           :  15  \n",
       " The U.S. Department of the Treasury has a distinguished history dating back to the founding of our nation. As the steward of U.S. economic and financial systems, Treasury is a major and influential leader in today's global economy. We have over 100,000 employees across the country and around the world. Come Join the Department of the Treasury and Invest in Tomorrow.\\nSee Other Information for Locations\\nPositions are to be filled in the Large Business & International (LB&I), Data Solutions division.\\nEight (8) positions are to be filled in any of the following locations:\\nBirmingham, AL\\nFayetteville, AR\\nLittle Rock, AR\\nPhoenix, AZ\\nEl Monte, CA\\nGlendale, CA\\nLaguna Niguel, CA\\nLos Angeles, CA\\nLong Beach, CA\\nOakland, CA\\nSacramento, CA\\nSan Diego, CA\\nSan Francisco, CA\\nSan Jose, CA\\nSanta Ana, CA\\nLakewood, CO\\nHartford, CT\\nNew Haven, CT\\nNorwalk, CT\\nWashington, DC\\nNewark, DE\\nMiami, FL\\nFt. Myers, FL\\nJacksonville, FL\\nMaitland, FL\\nPlantation, FL\\nTampa, FL\\nWest Palm Beach, FL\\nAtlanta, GA\\nHonolulu, HI\\nDes Moines, IA\\nChicago, IL\\nDowners Grove, IL\\nSchiller Park, IL\\nSpringfield, IL\\nIndianapolis, IN\\nWichita, KS\\nLouisville, KY\\nNew Orleans, LA\\nBoston, MA\\nBrockton, MA\\nStoneham, MA\\nSouthborough, MA\\nBaltimore, MD\\nLanham-Seabrook, MD\\nRockville, MD\\nAnn Arbor, MI\\nClinton Township, MI\\nDetroit, MI\\nFarmington Hills, MI\\nFlint, MI\\nGrand Rapids, MI\\nPontiac, MI\\nBloomington, MN\\nChesterfield, MO\\nLee's Summit, MO\\nCharlotte, NC\\nGreensboro, NC\\nRaleigh, NC\\nOmaha, NE\\nEdison, NJ\\nIselin, NJ\\nMountainside, NJ\\nPaterson, NJ\\nLas Vegas, NV\\nAlbany, NY\\nBethpage, NY\\nBuffalo, NY\\nNew York, NY\\nRochester, NY\\nCincinnati, OH\\nColumbus, OH\\nIndependence, OH\\nOklahoma City, OK\\nTulsa, OK\\nPortland, OR\\nPhiladelphia, PA\\nPittsburgh, PA\\nKing Of Prussia, PA\\nGuaynabo, PR\\nWarwick, RI\\nFranklin, TN\\nMemphis, TN\\nNashville, TN\\nAustin, TX\\nFarmers Branch, TX\\nFort Worth, TX\\nHouston, TX\\nSan Antonio, TX\\nOgden, UT\\nSalt Lake City, UT\\nNorfolk, VA\\nRichmond, VA\\nVienna, VA\\nSeattle, WA\\nMilwaukee, WI\\nWaukesha, WI\\nKearneysville, WV\\nMartinsburg, WV\\nWHAT DOES A DATA SCIENTIST DO? The Data Scientist utilizes advanced analytical, statistical, and computer programming skills to develop data- driven solutions to difficult business challenges. As a data scientist, you are responsible for conducting data-centric projects to provide insight and informed decisions for mission- oriented programs of the Internal Revenue Service (IRS), which may impact multiple program segments, divisions, the Service, or segments of the taxpayer population. This is accomplished by utilizing a wide range of technical competencies such as statistics and machine learning, coding languages, data wrangling, and reporting and visualization techniques. The Data Scientist may lead team or cross functional projects, and will apply critical thinking, problem solving and ability to communicate complex analysis to advance the use of data-driven decision making in IRS operations.\\n\\nWHAT IS THE LARGE BUSINESS AND INTERNATIONAL (LB&I) DIVISION OF THE INTERNAL REVENUE SERVICE? The Large Business and International (LB&I) business unit provides service and enforcement activities to support tax compliance of businesses and related entities with assets of $10 million or more, as well as small U.S. businesses engaged in international, U.S. citizens abroad, and foreign persons and businesses with a U.S. tax requirement.\\nAs a Data Scientist, you will:\\nServe as a technical expert with responsibility for the initiation, planning, implementation, controlling, modifying and executing of all or part of an entire project, including such tasks as formulation of workload estimates for program segments, specification of the methodology to be used, preparation of appropriate specifications and procedures, and review of computer systems specifications and materials and instructions needed for assuring the adequacy of the projectâ\\200\\231s design and objectives.\\nExplore novel methods of retrieving data and develop innovative recommendations to management and senior leadership as a means for making data driven decisions such as modification of processes and policies. Review, evaluate, validate, and document the results of the findings.\\nAssist the supervisor in determining the scope, goals and schedules for future programs in the Office. Collaborate with business or technology partners to understand business needs, identify opportunities, and develop and implement analytical solutions.\\nIdentify and assess relevant data sourcesâ\\200\\231 validity and reliability to meet project needs. Collate, clean, transform, analyze, and integrate structured and unstructured data from various sources in preparation for analysis.\\nApply statistical methods and concepts including data mining, statistical theory and research procedures to test hypotheses using structured and unstructured data. Develop data product solutions to improve customer experiences, anomaly detection, and business outcomes. Develop proofs of concept or demonstrations to evaluate feasibility of project solutions and recommend visualization strategies.\\nDocument project work and review deliverables for validity, reliability and timeliness. Communicate analytic solutions to technical and non-technical stakeholders, including during executive- level and/or cross-agency meetings, in a clear and effective manner using oral and written communications.\\nMaintain knowledge of state-of-the-art innovations in data science from both academic and industry sources and identify opportunities for implementation. Engage in general professional development to improve knowledge of IRS processes/programs.\\nApply computer based mathematical/statistical techniques using software. Lead or participate in statistical projects or studies in survey sampling (design and estimation), modeling, or statistical research. Apply knowledge of programming/coding language (i.e., SQL, SAS, SPSS, RStudio) to develop scripts or applications.\\nAct as a troubleshooter in resolving bottlenecks at any step in a project by identifying and proposing solutions; this may include coordination with other project team members or stakeholders to mitigate issues.\\n\\nWHERE CAN I FIND OUT MORE ABOUT OTHER IRS CAREERS? If you want to find out more about IRS careers, visit us on the web at www.jobs.irs.gov\\n#LI-POST\\nYou must meet the following requirements by the closing date of this announcement\\nBASIC QUALIFICATION REQUIREMENTS:\\n\\nGS-1530 Statistician All Grades:\\nYou must have a Bachelor's degree that included 15 semester hours in statistics (or in mathematics and statistics, provided at least 6 semester hours were in statistics), and 9 additional semester hours in one or more of the following: physical or biological sciences, medicine, education, or engineering; or in the social sciences including demography, history, economics, social welfare, geography, international relations, social or cultural anthropology, health sociology, political science, public administration, psychology, etc. Credit toward meeting statistical course requirements should be given for courses in which 50 percent of the course content appears to be statistical methods, e.g., courses that included studies in research methods in psychology or economics such as tests and measurements or business cycles, or courses in methods of processing mass statistical data such as tabulating methods or electronic data processing. OR\\nCombination of education and experience -- courses as shown above, plus appropriate experience or additional education. The experience should have included a full range of professional statistical work such as (a) sampling, (b) collecting, computing, and analyzing statistical data, and (c) applying statistical techniques such as measurement of central tendency, dispersion, skewness, sampling error, simple and multiple correlation, analysis of variance, and tests of significance.\\nGS-13 LEVEL: You must have one year of specialized experience at a level of difficulty and responsibility equivalent to the GS-12 grade level in the Federal service. Specialized experience for this position includes all of the following:\\nExperience applying project management principles on a data science project\\nExperience planning and executing a variety of data science and/or analytics projects.\\nExperience using data mining process models (such as CRISP-DM, SEMMA, etc.,) to design and execute data science project.\\nExperience preparing and analyzing structured and unstructured datasets to explorations and evaluating data science centric models.\\nExperience working with multiple data types and formats as a part of a data science project.\\nExperience applying a range of analytic approaches, including (but not limited to) machine learning, text analytics, and natural language processing; graph theory, link analysis and optimization models; complex adaptive systems; and/or deep learning neural networks that are part of the exploration.\\nExperience coding in various programming languages (such as R, Python, SQL, or JAVA) to conduct various phases of data science projects.\\nExperience creating and querying different datastores and architectures (such as Sybase, Oracle, and open-source databases) to work with various types of data as part of the data science project.\\nExperience using tools for data visualization (graphs, tables, charts, etc.,) and end-user business intelligence.\\n-The experience may have been gained in the public sector, private sector or Volunteer Service. One year of experience refers to full-time work; part-time work is considered on a prorated basis.\\n-To ensure full credit for your work experience, please indicate dates of employment by month/year, and indicate number of hours worked per week, on your resume.:  14  \n",
       " The Business\\n\\nGradTests.com is a leading provider of practice psychometric tests to graduates, students and young professionals.\\n\\nThe Role\\n\\nThe core purpose of the role is to make high quality, high availability, accurate data available for our data analysts and data scientists to do their analysis, derive their insights and build their models. You are the Scotty Pippin to the Michael Jordans. You are the Xavi to the Messis.\\n\\nYou'll do things like:\\nEnsure our data warehouse is well structured, running smoothly and efficiently for all business intelligence\\nSet up and maintain various data pipelines used for customer analytics, marketing analytics and product analytics\\nSkills and experience\\n\\nNon negotiables:\\nSQL\\nPython\\nStrong knowledge of traditional relational databases - we don't mind which\\nSome experience with cloud technologies - again we don't mind if it's AWS, GCP or Azure\\nExperience in any streaming technology\\nGreat experience in using third party APIs at scale\\nSome web scraping experience\\nAn obsession with data quality\\nStrong communication skills\\nNice to haves:\\nExperience in working with analysts\\nAny basic knowledge of advanced analytics techniques\\nExperience in a visualisation tool like Tableau\\nJob Types: Full-time, Contract\\n\\nSalary: $100,000.00 /year\\n\\nWork Remotely:\\nYes                                                                                                                                                                                                                                                                                                                                                                                                                                                                                                                                                                                                                                                                                                                                                                                                                                                                                                                                                                                                                                                                                                                                                                                                                                                                                                                                                                                                                                                                                                                                                                                                                                                                                                                                                                                                                                                                                                                                                                                                                                                                                                                                                                                                                                                                                                                                                                                                                                                                                                                                                                                                                                                                                                                                                                                                                                                                                                                                                                                                                                                                                                                                                                                                                                                                                                                                                                                                                                                                                                                                                                                                                                                                                                                                                                                                                                                                                                                                                                                                                                                                                                                                                                                                                                                                                                                                                                                                                                                                                                                                                                                                                                                                                                                                                                                                                                                                                                                                                                                                                                                                                                                                                                                                                                                                                                                                                                                                                                                                                                                                                                                                                                                                                                                                                                                                                                                                                                                                                                                                                                                                                                                                                                                                                                                                                                                                                                                                                                                                                                                                                                                                                                                                                                                                                                                                                                                                                                                                                                                                                                                                                                                                                                                                                                                                                                                                                                                                                                                                                                                                                                                                                                                                                                                                                                                                                                                                                                                                                                                                                                                                                                                                                                                                                                                                                                                                                                                                                                                                                                                                                                                                                                                                                                                                                                                                                                             :  11  \n",
       " Introduction\\nAs a Data Scientist at IBM, you will help transform our clients data into tangible business value by analyzing information, communicating outcomes and collaborating on product development. Work with Best in Class open source and visual tools, along with the most flexible and scalable deployment options. Whether its investigating patient trends or weather patterns, you will work to solve real world problems for the industries transforming how we live.\\n\\nYour Role and Responsibilities\\nQuantum computers are incredibly powerful machines that take a new approach to processing information. Built on the principles of quantum mechanics, they exploit complex and fascinating laws of nature that are always there, but usually remain hidden from view. By harnessing such natural behavior, quantum computers can run new types of algorithms to process information more holistically. They may one day lead to revolutionary breakthroughs in materials and drug discovery, the optimization of complex manmade systems, and artificial intelligence. We expect them to open doors that we once thought would remain locked indefinitely.\\n\\nWhat youll be doing:\\nIBM Services is looking for a Quantum Data Scientist who will interface with research and algorithm experts to implement quantum approaches, which includes data pre-/post-processing, running numerics and visualizing data. Working with quantum industry experts, you will be a key member of a multi-discipline squad focused on building quantum capabilities and researching quantum application development for clients within process sector industries, including chemicals, oil and gas, industrial products and continuous manufacturing.\\nWork with IBM Q Start team on active exploratory research engagements to prepare for future use case commercialization within specific industries\\nInteract with client data science teams to explore promising areas for quantum\\nImplement quantum approaches, which includes data pre-/post-processing, running numerics and visualizing data\\nCollaborate with industry and solutioning experts to design and shape experiments to demonstrate quantum-enabled advantage\\nContribute best practices related to information architecture, including collection, integration, organization, analysis and visualization of data for quantum-enabled impact\\nSupport practice development initiatives focused on building employee knowledge and skills in specific areas of expertise through coaching and development of training course material\\nAt IBM our goal is to be essential to the world, which starts with our people.\\n\\nCareer Growth\\nSkill development: We help our employees develop and grow their foundational skills\\nFinding the dream job at IBM: Endless career paths and advancement opportunities\\nDiversity of people: Commitment to creating a diverse and inclusive culture\\nIBM offers a competitive benefits program, designed to help employees build a solid financial foundation for meeting a diverse array of needs.\\n\\nBenefits\\nâ\\200¢ Parental Bonding/Maternity Leave\\nâ\\200¢ Paid Care Leave\\nâ\\200¢ Healthcare, Dental and Vision\\nâ\\200¢ Flexible Work Hours\\nâ\\200¢ Adoption and Surrogacy Assistance Program\\nâ\\200¢ Employee Discounts\\nâ\\200¢ Worldwide Diversity & Inclusion and Business Resource Groups\\nâ\\200¢ Employee Stock Purchase Plan\\nâ\\200¢ Retirement Plan\\n\\nLearn more about what working at IBM can mean for you!\\nhttp://www-01.ibm.com/employment/us/benefits\\n\\nIBM has been recognized over the years for our ability to innovate and promote a culture of principles and values, using technology as a key element.\\n\\nRecognitions\\nFortune Most Admired Companies\\nDiversityInc. Top 10 Companies for Global Diversity\\nNational Association of Female Executives Top 50 Companies for Female Executives\\nWorking Mother 100 Best Companies\\n2016 Climate Leadership Award\\n\\nRequired Technical and Professional Expertise\\nPhD/Masters in STEM related fields with knowledge in quantum computing.\\n2+ years of data engineering and data science experience\\n1+ year of consulting experience within specific industries\\nFamiliarity with classical approaches for optimization, machine learning and linear algebra, including linear and combinatorial optimization, routing heuristics, classification and clustering technics, numerical simulation, statistics analysis, real time processing\\nFamiliar with Qiskit software, including Qiskit Aqua for domain applications and Qiskit Terra for quantum circuit design and optimization\\nExcellent ideation, facilitation and communications skills\\nDetail-oriented team player with strong interpersonal skills and ability to take a leadership role when necessary\\nEnglish: Fluent\\nMust be willing to travel both domestically and globally up to 40% (Will be required once we return to a travel-safe normal)\\nPreferred Technical and Professional Expertise\\nExperience with linear programming and/or general mathematical programming\\nProficiency in Python with good knowledge of Jupyter, Tensor, Numpy\\nDeep knowledge and application expertise in ML/DL\\nFamiliarity with Qiskit and quantum concepts and principles, able to model classical ML/DL algorithms within quantum principles\\nExperience with some aspect of high-performance computing use within an industry context\\nAbout Business Unit\\nIBM Services is a team of business, strategy and technology consultants that design, build, and run foundational systems and services that is the backbone of the world's economy. IBM Services partners with the world's leading companies in over 170 countries to build smarter businesses by reimagining and reinventing through technology, with its outcome-focused methodologies, industry-leading portfolio and world class research and operations expertise leading to results-driven innovation and enduring excellence.\\n\\nYour Life @ IBM\\nWhat matters to you when youre looking for your next career challenge?\\n\\nMaybe you want to get involved in work that really changes the world? What about somewhere with incredible and diverse career and development opportunities where you can truly discover your passion? Are you looking for a culture of openness, collaboration and trust where everyone has a voice? What about all of these? If so, then IBM could be your next career challenge. Join us, not to do something better, but to attempt things you never thought possible.\\n\\nImpact. Inclusion. Infinite Experiences. Do your best work ever.\\n\\nAbout IBM\\nIBMs greatest invention is the IBMer. We believe that progress is made through progressive thinking, progressive leadership, progressive policy and progressive action. IBMers believe that the application of intelligence, reason and science can improve business, society and the human condition. Restlessly reinventing since 1911, we are the largest technology and consulting employer in the world, with more than 380,000 IBMers serving clients in 170 countries.\\n\\nLocation Statement\\nFor additional information about location requirements, please discuss with the recruiter following submission of your application.\\n\\nBeing You @ IBM\\nIBM is committed to creating a diverse environment and is proud to be an equal opportunity employer. All qualified applicants will receive consideration for employment without regard to race, color, religion, gender, gender identity or expression, sexual orientation, national origin, genetics, disability, age, or veteran status. IBM is also committed to compliance with all fair employment practices regarding citizenship and immigration status.                                                                                                                                                                                                                                                                                                                                                                                                                                                                                                                                                                                                                                                                                                                                                                                                                                                                                                                                                                                                                                                                                                                                                                                                                                                                                                                                                                                                                                                                                                                                                                                                                                                                                                                                                                                                                                                                                                                                                                                                                                                                                                                                                                                                                                                                                                                                                                                                   :  10  \n",
       " Introduction\\nAs an IBM consultant, you directly help clients transform their business and solve complex problems. You will analyze, define, configure, implement, test and support projects that deliver customized solutions using your knowledge of Microsoft. You are a valued team member, serving as a liaison between IBM and our clients to deliver outstanding results.\\n\\nYour Role and Responsibilities\\n\\nIBM Services Microsoft Practice is seeking keen-minded Microsoft Analytics Consulting Specialists. In this job role, the ideal candidate is a consummate business technologist consultant. You will use your business process, data and intelligence tools expertise to provide best-in-class solutions to help clients achieve business objectives. The specialist will collaborate in all aspects of the implementation. This role will work side by side with customer business and IT teams defining and analyzing business requirements. Successful candidates will have experience with data mining, data modeling, process modeling, and a keen insight for translating requirements into a robust design.\\n\\nSkills and experience with creating and delivering production demonstrations is preferred but not required.\\n\\nBe part of a team that is delivering exceptional value by bridging technology and expertise. Collaborate with extraordinary, insightful professionals in an environment that cultivates creativity and individuality.\\n\\nCandidates from all locations considered; however candidates that live in or near one of the following cities preferred: Atlanta, Chicago, Columbus, Houston, Dallas, Raleigh, Washington DC Metro Area, Piscataway, Philadelphia.\\n\\nRWMS\\n\\nRequired Technical and Professional Expertise\\nAt least 2 years of experience in business intelligence consulting and design\\nAt least 2 years of experience in Azure configuration and any combination of Azure Data Factory, Azure Blob Storage, Azure SQL DataWarehouse, Azure Analysis Services, Azure Machine Learning\\nAt least 2 years of experience with PowerBI\\nAt least 3 years of experience with SSIS, SSAS, SSRS\\nAt least 2 years of experience with report data modelling\\nAt least 2 years of experience in ETL technologies\\nMicrosoft certification\\nPreferred Technical and Professional Expertise\\nAt least 3 years of experience in SQL Server, SSIS, SSRS, SSAS\\nAt least 3 years of experience in Azure and/or Jupyter Notebooks\\nAt least 5 years of experience in report modelling\\nAt least 3 years of experience in MDX(SSAS)\\nAt least 2 years of experience in Azure CosmosDB consumption via Web Applications\\nAt least basic experience implementing ERP solutions (i.e. SAP) on Azure\\nAt least basic knowledge with Databricks and/or Azure Databricks (Python/Scala/Spark SQL, SparkR, SparkML, SparklyR, related technologies)\\nMicrosoft Certification in Azure based technology\\nAbout Business Unit\\nIBM Services is a team of business, strategy and technology consultants that design, build, and run foundational systems and services that is the backbone of the world's economy. IBM Services partners with the world's leading companies in over 170 countries to build smarter business by reimagining and reinventing through technology, with its outcome-focused methodologies, industry-leading portfolio and world class research and operations expertise leading to results-driven innovation and enduring excellence.\\n\\nYour Life @ IBM\\nWhat matters to you when youre looking for your next career challenge?\\n\\nMaybe you want to get involved in work that really changes the world? What about somewhere with incredible and diverse career and development opportunities where you can truly discover your passion? Are you looking for a culture of openness, collaboration and trust where everyone has a voice? What about all of these? If so, then IBM could be your next career challenge. Join us, not to do something better, but to attempt things you never thought possible.\\n\\nImpact. Inclusion. Infinite Experiences. Do your best work ever.\\n\\nAbout IBM\\nBENEFITS\\nHealth Insurance. Paid time off. Corporate Holidays. Sick leave. Family planning. Financial Guidance. Competitive 401K. Training and Learning. We continue to expand our benefits and programs, offering some of the best support, guidance and coverage for a diverse employee population.\\n\\nâ\\200¢http://www-01.ibm.com/employment/us/benefits/\\nâ\\200¢https://www-03.ibm.com/press/us/en/pressrelease/50744.wss\\n\\nCAREER GROWTH\\nOur goal is to be essential to the world, which starts with our people. Company wide we kicked off an internal talent strategy program called Go Organic. At our core, we are committed to believing and investing in our workforce through:\\nâ\\200¢Skill development: helping our employees grow their foundational skills\\nâ\\200¢Finding the dream job at IBM: navigating our company with the potential for many careers by channeling an employees strengths and career aspirations\\nâ\\200¢Diversity of people: Diversity of thought driving collective innovation\\n\\nCORPORATE CITIZENSHIP\\nWith an employee population of 375,000 in over 170 countries, amazingly we connect, collaborate, and care. IBMers drive a corporate culture of shared responsibility. We love grand challenges and everyday improvements for our company and for the world. We care about each other, our clients, and the communities we live, work, and play in!\\n\\nâ\\200¢http://www.ibm.com/ibm/responsibility/initiatives.html\\nâ\\200¢http://www.ibm.com/ibm/responsibility/corporateservicecorps\\n\\nLocation Statement\\nFor additional information about location requirements, please discuss with the recruiter following submission of your application.\\n\\nBeing You @ IBM\\nIBM is committed to creating a diverse environment and is proud to be an equal opportunity employer. All qualified applicants will receive consideration for employment without regard to race, color, religion, gender, gender identity or expression, sexual orientation, national origin, genetics, disability, age, or veteran status. IBM is also committed to compliance with all fair employment practices regarding citizenship and immigration status.                                                                                                                                                                                                                                                                                                                                                                                                                                                                                                                                                                                                                                                                                                                                                                                                                                                                                                                                                                                                                                                                                                                                                                                                                                                                                                                                                                                                                                                                                                                                                                                                                                                                                                                                                                                                                                                                                                                                                                                                                                                                                                                                                                                                                                                                                                                                                                                                                                                                                                                                                                                                                                                                                                                                                                                                                                                                                                                                                                                                                                                                                                                                                                                                                                                                                                                                                                                                                                                                                                                                                                                                                                                                                                                                                                                                                                                                                     :   9  \n",
       " *Introduction**As an IBM Application Architect, you directly help clients transform their business and solve complex problems. You will define the scope and vision for projects that deliver customized solutions using your knowledge of IBM platforms. You are a technical leader, serving as a liaison among business partners, technical resources, and project stakeholders.**Your Role and Responsibilities**IBM Services is seeking Microsoft Dynamics Customer Relationship Management (CRM) Data Analysts to collect and analyze requirements and solve client problems using Microsoft Dynamics CRM solutions. You will serve as a liaison between clients and project consultants, particularly during initial project phases. You will work primarily on project execution but may be involved in sales support as well.Microsoft CRM Data Analysts are responsible for identifying, developing and deploying end-user solutions in CRM systems. Using your deep functional knowledge and familiarity with the Microsoft Dynamics CRM application, you will ensure that client business requirements are met while providing a variety of advisory services around project management, business process development, implementation support and end-user training.**Primary Responsibilities:****Project Execution**+ Support the translation of client business requirements into CRM solutions, including requirements approval, communication, traceability and reuse+ Contribute to the transfer of functional requirements to development and test teams+ Use CRM workflow technology to automate business processes+ Stay abreast on updates and new releases in CRM technologies (Microsoft's and its competitors)+ Educate end-users on CRM functions+ Provide end user classroom training on the configured CRM application before go-live and individual training during hyper-support after the cut-over **Sales Support**â\\200¢Help determine and translate customer needs into a solution and approachâ\\200¢Contribute to proposal developmentâ\\200¢Contribute to scope, approach, and estimating input to the proposal teamâ\\200¢Contribute to and participate in client demonstrations and presentations**Additional skills required:**+ Microsoft Office Suite, specifically Microsoft Word, Excel, PowerPoint, and Visio+ Microsoft DevOps+ Familiarity with Microsoft technologies/trends+ Strong analytical, presentation, and writing skillsSkills and experience in creating and delivering production demonstrations is preferred but not required.NOTE: Microsoft Dynamics CRM experience is required for this position**Required Technical and Professional Expertise**+ At least 3 years team lead experience or management experience of 5+ team members (management consultant only)+ At least 2 years project experience in enterprise business application development and delivery (e.g., CRM, ERP, SCM, HCM)+ At least 1 year project implementation experience using Microsoft Dynamics 365, Microsoft Dynamics CRM online, or Microsoft Dynamics CRM 2016, 2015, or 2013+ At least 2 years project experience translating client business needs into software capabilities+ At least 2 years project experience with business requirements analysis and modeling+ At least 2 years project experience creating functional designs, test conditions and test scripts+ At least 2 years experience working within a team environment+ Basic knowledge of software development methodologies (Waterfall and/or Agile)**Preferred Technical and Professional Expertise**+ At least 2 years consulting experience working for a global systems integrator+ Microsoft Certified Professional (MCP)+ At least 1 year project experience working with global and offshore project teams+ At least 1 year experience with system integration or user acceptance testing+ At least 1 year experience with organizational design+ At least 1 year experience with business process design or re-engineering+ At least 1 year experience with developing and implementing end-user training programs+ At least 1 year experience implementing or using CRM systems to support customer service, call center, or field service operations**About Business Unit**IBM Services is a team of business, strategy and technology consultants that design, build, and run foundational systems and services that is the backbone of the world's economy. IBM Services partners with the world's leading companies in over 170 countries to build smarter businesses by reimagining and reinventing through technology, with its outcome-focused methodologies, industry-leading portfolio and world class research and operations expertise leading to results-driven innovation and enduring excellence.**Your Life @ IBM**What matters to you when you're looking for your next career challenge?Maybe you want to get involved in work that really changes the world? What about somewhere with incredible and diverse career and development opportunities - where you can truly discover your passion? Are you looking for a culture of openness, collaboration and trust - where everyone has a voice? What about all of these? If so, then IBM could be your next career challenge. Join us, not to do something better, but to attempt things you never thought possible.Impact. Inclusion. Infinite Experiences. Do your best work ever.**About IBM**IBM's greatest invention is the IBMer. We believe that progress is made through progressive thinking, progressive leadership, progressive policy and progressive action. IBMers believe that the application of intelligence, reason and science can improve business, society and the human condition. Restlessly reinventing since 1911, we are the largest technology and consulting employer in the world, with more than 380,000 IBMers serving clients in 170 countries.**Location Statement**For additional information about location requirements, please discuss with the recruiter following submission of your application.**Being You @ IBM**IBM is committed to creating a diverse environment and is proud to be an equal opportunity employer. All qualified applicants will receive consideration for employment without regard to race, color, religion, gender, gender identity or expression, sexual orientation, national origin, genetics, disability, age, or veteran status. IBM is also committed to compliance with all fair employment practices regarding citizenship and immigration status.                                                                                                                                                                                                                                                                                                                                                                                                                                                                                                                                                                                                                                                                                                                                                                                                                                                                                                                                                                                                                                                                                                                                                                                                                                                                                                                                                                                                                                                                                                                                                                                                                                                                                                                                                                                                                                                                                                                                                                                                                                                                                                                                                                                                                                                                                                                                                                                                                                                                                                                                                                                                                                                                                                                                                                                                                                                                                                                                                                                                                                                                                                                                                                                                                                                                                                                                                                                                                                                                                                                                                                                                                         :   8  \n",
       " (Other)                                                                                                                                                                                                                                                                                                                                                                                                                                                                                                                                                                                                                                                                                                                                                                                                                                                                                                                                                                                                                                                                                                                                                                                                                                                                                                                                                                                                                                                                                                                                                                                                                                                                                                                                                                                                                                                                                                                                                                                                                                                                                                                                                                                                                                                                                                                                                                                                                                                                                                                                                                                                                                                                                                                                                                                                                                                                                                                                                                                                                                                                                                                                                                                                                                                                                                                                                                                                                                                                                                                                                                                                                                                                                                                                                                                                                                                                                                                                                                                                                                                                                                                                                                                                                                                                                                                                                                                                                                                                                                                                                                                                                                                                                                                                                                                                                                                                                                                                                                                                                                                                                                                                                                                                                                                                                                                                                                                                                                                                                                                                                                                                                                                                                                                                                                                                                                                                                                                                                                                                                                                                                                                                                                                                                                                                                                                                                                                                                                                                                                                                                                                                                                                                                                                                                                                                                                                                                                                                                                                                                                                                                                                                                                                                                                                                                                                                                                                                                                                                                                                                                                                                                                                                                                                                                                                                                                                                                                                                                                                                                                                                                                                                                                                                                                                                                                                                                                                                                                                                                                                                                                                                                                                                                                                                                                                                                                                                                                                                                                                                                                                                                                                                                                                                                                                                                                                                                                                                                                                                                                                                                                                                                                                                                                                                                                                                                                                                                                                                                                                                                                                                                                                                                                                                                        :8623  \n",
       "     Rating                                    Company.Name  \n",
       " Min.   :1.000   Apple\\n4.1                           :  88  \n",
       " 1st Qu.:3.400   Staffigo Technical Services, LLC\\n5.0:  86  \n",
       " Median :3.800   Amazon\\n3.9                          :  78  \n",
       " Mean   :3.783   IBM\\n3.7                             :  64  \n",
       " 3rd Qu.:4.100   Diverse Lynx\\n3.9                    :  62  \n",
       " Max.   :5.000   Kforce\\n4.1                          :  41  \n",
       " NA's   :915     (Other)                              :8271  \n",
       "            Location           Headquarters                      Size     \n",
       " New York, NY   : 800   New York, NY : 681   10000+ employees      :1925  \n",
       " Chicago, IL    : 652   Chicago, IL  : 332   51 to 200 employees   :1373  \n",
       " Austin, TX     : 625   San Diego, CA: 308   1001 to 5000 employees:1286  \n",
       " San Diego, CA  : 561   Austin, TX   : 202   1 to 50 employees     :1260  \n",
       " Houston, TX    : 490   Houston, TX  : 182   201 to 500 employees  : 939  \n",
       " San Antonio, TX: 412   (Other)      :6449   (Other)               :1214  \n",
       " (Other)        :5150   NA's         : 536   NA's                  : 693  \n",
       "    Founded                          Type.of.ownership\n",
       " Min.   :1625   Company - Private             :4598   \n",
       " 1st Qu.:1967   Company - Public              :2320   \n",
       " Median :1997   Nonprofit Organization        : 379   \n",
       " Mean   :1977   Subsidiary or Business Segment: 375   \n",
       " 3rd Qu.:2006   Government                    : 149   \n",
       " Max.   :2020   (Other)                       : 274   \n",
       " NA's   :2208   NA's                          : 595   \n",
       "                             Industry                          Sector    \n",
       " IT Services                     :1152   Information Technology   :2584  \n",
       " Staffing & Outsourcing          : 838   Business Services        :1619  \n",
       " Computer Hardware & Software    : 619   Finance                  : 616  \n",
       " Internet                        : 448   Health Care              : 399  \n",
       " Health Care Services & Hospitals: 399   Biotech & Pharmaceuticals: 361  \n",
       " (Other)                         :3957   (Other)                  :1837  \n",
       " NA's                            :1277   NA's                     :1274  \n",
       "                       Revenue    \n",
       " $10+ billion (USD)        :1181  \n",
       " $100 to $500 million (USD): 830  \n",
       " $50 to $100 million (USD) : 563  \n",
       " $2 to $5 billion (USD)    : 475  \n",
       " $10 to $25 million (USD)  : 454  \n",
       " (Other)                   :2184  \n",
       " NA's                      :3003  \n",
       "                                 Competitors   Easy.Apply  job.category\n",
       " Google, Microsoft, Samsung Electronics:  88   -1  :   0   DA:2253     \n",
       " Google, Microsoft, Walmart            :  78   True: 390   DS:3909     \n",
       " Amazon, Accenture, Microsoft          :  68   NA's:8300   DE:2528     \n",
       " Cigna, Aetna, UnitedHealth Group      :  36                           \n",
       " Google, Microsoft, Apple              :  33                           \n",
       " (Other)                               :2146                           \n",
       " NA's                                  :6241                           \n",
       "     Python             R               SQL             Spark       \n",
       " Min.   :0.0000   Min.   :0.0000   Min.   :0.0000   Min.   :0.0000  \n",
       " 1st Qu.:0.0000   1st Qu.:0.0000   1st Qu.:0.0000   1st Qu.:0.0000  \n",
       " Median :0.0000   Median :0.0000   Median :1.0000   Median :0.0000  \n",
       " Mean   :0.4696   Mean   :0.1502   Mean   :0.5564   Mean   :0.2094  \n",
       " 3rd Qu.:1.0000   3rd Qu.:0.0000   3rd Qu.:1.0000   3rd Qu.:0.0000  \n",
       " Max.   :1.0000   Max.   :1.0000   Max.   :1.0000   Max.   :1.0000  \n",
       "                                                                    \n",
       "     Excel           PowerBI             Git             GitHub       \n",
       " Min.   :0.0000   Min.   :0.00000   Min.   :0.0000   Min.   :0.00000  \n",
       " 1st Qu.:0.0000   1st Qu.:0.00000   1st Qu.:0.0000   1st Qu.:0.00000  \n",
       " Median :0.0000   Median :0.00000   Median :0.0000   Median :0.00000  \n",
       " Mean   :0.4686   Mean   :0.05397   Mean   :0.1941   Mean   :0.01933  \n",
       " 3rd Qu.:1.0000   3rd Qu.:0.00000   3rd Qu.:0.0000   3rd Qu.:0.00000  \n",
       " Max.   :1.0000   Max.   :1.00000   Max.   :1.0000   Max.   :1.00000  \n",
       "                                                                      \n",
       " BeginningSalary   EndingSalary    US.postal.abbreviation\n",
       " Min.   : 10000   Min.   : 26000   TX     :2647          \n",
       " 1st Qu.: 49000   1st Qu.: 87000   CA     :2295          \n",
       " Median : 69000   Median :111000   NY     : 845          \n",
       " Mean   : 73374   Mean   :119720   IL     : 727          \n",
       " 3rd Qu.: 93000   3rd Qu.:149000   PA     : 611          \n",
       " Max.   :200000   Max.   :281000   (Other):1561          \n",
       " NA's   :1        NA's   :1        NA's   :   4          "
      ]
     },
     "metadata": {},
     "output_type": "display_data"
    }
   ],
   "source": [
    "summary(Data)"
   ]
  },
  {
   "cell_type": "markdown",
   "metadata": {},
   "source": [
    "\n",
    "<span style=\"color: red;font-size:30px;\">5 Insights from the data</span>\n",
    "\n",
    "### 5.1-Skills"
   ]
  },
  {
   "cell_type": "code",
   "execution_count": 54,
   "metadata": {
    "scrolled": true
   },
   "outputs": [
    {
     "data": {
      "text/html": [
       "<table>\n",
       "<thead><tr><th scope=col>skillName</th><th scope=col>number</th></tr></thead>\n",
       "<tbody>\n",
       "\t<tr><td>Python </td><td>29     </td></tr>\n",
       "\t<tr><td>R      </td><td>14     </td></tr>\n",
       "\t<tr><td>SQL    </td><td>62     </td></tr>\n",
       "\t<tr><td>Spark  </td><td> 4     </td></tr>\n",
       "\t<tr><td>Excel  </td><td>61     </td></tr>\n",
       "\t<tr><td>PowerBI</td><td> 8     </td></tr>\n",
       "\t<tr><td>Git    </td><td>14     </td></tr>\n",
       "\t<tr><td>GitHub </td><td> 1     </td></tr>\n",
       "</tbody>\n",
       "</table>\n"
      ],
      "text/latex": [
       "\\begin{tabular}{r|ll}\n",
       " skillName & number\\\\\n",
       "\\hline\n",
       "\t Python  & 29     \\\\\n",
       "\t R       & 14     \\\\\n",
       "\t SQL     & 62     \\\\\n",
       "\t Spark   &  4     \\\\\n",
       "\t Excel   & 61     \\\\\n",
       "\t PowerBI &  8     \\\\\n",
       "\t Git     & 14     \\\\\n",
       "\t GitHub  &  1     \\\\\n",
       "\\end{tabular}\n"
      ],
      "text/markdown": [
       "\n",
       "| skillName | number |\n",
       "|---|---|\n",
       "| Python  | 29      |\n",
       "| R       | 14      |\n",
       "| SQL     | 62      |\n",
       "| Spark   |  4      |\n",
       "| Excel   | 61      |\n",
       "| PowerBI |  8      |\n",
       "| Git     | 14      |\n",
       "| GitHub  |  1      |\n",
       "\n"
      ],
      "text/plain": [
       "  skillName number\n",
       "1 Python    29    \n",
       "2 R         14    \n",
       "3 SQL       62    \n",
       "4 Spark      4    \n",
       "5 Excel     61    \n",
       "6 PowerBI    8    \n",
       "7 Git       14    \n",
       "8 GitHub     1    "
      ]
     },
     "metadata": {},
     "output_type": "display_data"
    }
   ],
   "source": [
    "newData = filter(Data,job.category==\"DA\")\n",
    "\n",
    "Python = nrow(newData[newData$Python == 1,])\n",
    "R     = nrow(newData[newData$R == 1,])\n",
    "SQL     = nrow(newData[newData$SQL == 1,])\n",
    "Spark  = nrow(newData[newData$Spark == 1,])\n",
    "Excel= nrow(newData[newData$Excel == 1,])\n",
    "PowerBI= nrow(newData[newData$PowerBI == 1,])\n",
    "Git= nrow(newData[newData$Git == 1,])\n",
    "GitHub= nrow(newData[newData$GitHub == 1,])\n",
    "\n",
    "skillsTable = data.frame(skillName =c(\"Python\",\"R\",\"SQL\",\"Spark\",\"Excel\",\"PowerBI\",\"Git\",\"GitHub\") ,\n",
    "                       number =( ceiling( (c(Python,R,SQL,Spark,Excel,PowerBI,Git,GitHub)/nrow(newData))*100)) )\n",
    "\n",
    "skillsTable"
   ]
  },
  {
   "cell_type": "code",
   "execution_count": 55,
   "metadata": {
    "scrolled": true
   },
   "outputs": [
    {
     "data": {
      "image/png": "[encoded data removed]",
      "text/plain": [
       "plot without title"
      ]
     },
     "metadata": {},
     "output_type": "display_data"
    }
   ],
   "source": [
    "p<-ggplot(skillsTable, aes(x=skillName, y=number , fill = skillName) ) +\n",
    "  geom_bar(stat=\"identity\") + geom_text(aes(label=number), vjust=.5, color=\"black\", size=3.5) +\n",
    "   ggtitle(\"Data analyst technical skills and percntage of demand\")\n",
    "p"
   ]
  },
  {
   "cell_type": "markdown",
   "metadata": {},
   "source": [
    "![](All-Data_files/figure-gfm/unnamed-chunk-40-1.png)<!-- -->"
   ]
  },
  {
   "cell_type": "code",
   "execution_count": 56,
   "metadata": {
    "scrolled": true
   },
   "outputs": [
    {
     "data": {
      "text/html": [
       "<table>\n",
       "<thead><tr><th scope=col>skillName</th><th scope=col>number</th></tr></thead>\n",
       "<tbody>\n",
       "\t<tr><td>Python </td><td>92     </td></tr>\n",
       "\t<tr><td>R      </td><td>38     </td></tr>\n",
       "\t<tr><td>SQL    </td><td>90     </td></tr>\n",
       "\t<tr><td>Spark  </td><td>40     </td></tr>\n",
       "\t<tr><td>Excel  </td><td>83     </td></tr>\n",
       "\t<tr><td>PowerBI</td><td> 9     </td></tr>\n",
       "\t<tr><td>Git    </td><td>32     </td></tr>\n",
       "\t<tr><td>GitHub </td><td> 4     </td></tr>\n",
       "</tbody>\n",
       "</table>\n"
      ],
      "text/latex": [
       "\\begin{tabular}{r|ll}\n",
       " skillName & number\\\\\n",
       "\\hline\n",
       "\t Python  & 92     \\\\\n",
       "\t R       & 38     \\\\\n",
       "\t SQL     & 90     \\\\\n",
       "\t Spark   & 40     \\\\\n",
       "\t Excel   & 83     \\\\\n",
       "\t PowerBI &  9     \\\\\n",
       "\t Git     & 32     \\\\\n",
       "\t GitHub  &  4     \\\\\n",
       "\\end{tabular}\n"
      ],
      "text/markdown": [
       "\n",
       "| skillName | number |\n",
       "|---|---|\n",
       "| Python  | 92      |\n",
       "| R       | 38      |\n",
       "| SQL     | 90      |\n",
       "| Spark   | 40      |\n",
       "| Excel   | 83      |\n",
       "| PowerBI |  9      |\n",
       "| Git     | 32      |\n",
       "| GitHub  |  4      |\n",
       "\n"
      ],
      "text/plain": [
       "  skillName number\n",
       "1 Python    92    \n",
       "2 R         38    \n",
       "3 SQL       90    \n",
       "4 Spark     40    \n",
       "5 Excel     83    \n",
       "6 PowerBI    9    \n",
       "7 Git       32    \n",
       "8 GitHub     4    "
      ]
     },
     "metadata": {},
     "output_type": "display_data"
    }
   ],
   "source": [
    "newData2 = filter(Data,job.category==\"DS\")\n",
    "\n",
    "Python = nrow(newData2[newData2$Python == 1,])\n",
    "R     = nrow(newData2[newData2$R == 1,])\n",
    "SQL     = nrow(newData2[newData2$SQL == 1,])\n",
    "Spark  = nrow(newData2[newData2$Spark == 1,])\n",
    "Excel= nrow(newData2[newData2$Excel == 1,])\n",
    "PowerBI= nrow(newData2[newData2$PowerBI == 1,])\n",
    "Git= nrow(newData2[newData2$Git == 1,])\n",
    "GitHub= nrow(newData2[newData2$GitHub == 1,])\n",
    "\n",
    "skillsTable2 = data.frame(skillName =c(\"Python\",\"R\",\"SQL\",\"Spark\",\"Excel\",\"PowerBI\",\"Git\",\"GitHub\") ,\n",
    "                        number =( ceiling( (c(Python,R,SQL,Spark,Excel,PowerBI,Git,GitHub)/nrow(newData))*100)) )\n",
    "\n",
    "skillsTable2"
   ]
  },
  {
   "cell_type": "code",
   "execution_count": 57,
   "metadata": {
    "scrolled": true
   },
   "outputs": [
    {
     "data": {
      "image/png": "[encoded data removed]",
      "text/plain": [
       "plot without title"
      ]
     },
     "metadata": {},
     "output_type": "display_data"
    }
   ],
   "source": [
    "p<-ggplot(skillsTable2, aes(x=skillName, y=number , fill = skillName) ) +\n",
    "  geom_bar(stat=\"identity\") + geom_text(aes(label=number), vjust=.5, color=\"black\", size=3.5)+\n",
    "  ggtitle(\"Data scientist technical skills and percntage of demand\")\n",
    "p"
   ]
  },
  {
   "cell_type": "markdown",
   "metadata": {},
   "source": [
    "![](All-Data_files/figure-gfm/unnamed-chunk-42-1.png)<!-- -->"
   ]
  },
  {
   "cell_type": "code",
   "execution_count": 58,
   "metadata": {
    "scrolled": true
   },
   "outputs": [
    {
     "data": {
      "text/html": [
       "<table>\n",
       "<thead><tr><th scope=col>skillName</th><th scope=col>number</th></tr></thead>\n",
       "<tbody>\n",
       "\t<tr><td>Python </td><td>62     </td></tr>\n",
       "\t<tr><td>R      </td><td> 8     </td></tr>\n",
       "\t<tr><td>SQL    </td><td>64     </td></tr>\n",
       "\t<tr><td>Spark  </td><td>38     </td></tr>\n",
       "\t<tr><td>Excel  </td><td>39     </td></tr>\n",
       "\t<tr><td>PowerBI</td><td> 4     </td></tr>\n",
       "\t<tr><td>Git    </td><td>30     </td></tr>\n",
       "\t<tr><td>GitHub </td><td> 4     </td></tr>\n",
       "</tbody>\n",
       "</table>\n"
      ],
      "text/latex": [
       "\\begin{tabular}{r|ll}\n",
       " skillName & number\\\\\n",
       "\\hline\n",
       "\t Python  & 62     \\\\\n",
       "\t R       &  8     \\\\\n",
       "\t SQL     & 64     \\\\\n",
       "\t Spark   & 38     \\\\\n",
       "\t Excel   & 39     \\\\\n",
       "\t PowerBI &  4     \\\\\n",
       "\t Git     & 30     \\\\\n",
       "\t GitHub  &  4     \\\\\n",
       "\\end{tabular}\n"
      ],
      "text/markdown": [
       "\n",
       "| skillName | number |\n",
       "|---|---|\n",
       "| Python  | 62      |\n",
       "| R       |  8      |\n",
       "| SQL     | 64      |\n",
       "| Spark   | 38      |\n",
       "| Excel   | 39      |\n",
       "| PowerBI |  4      |\n",
       "| Git     | 30      |\n",
       "| GitHub  |  4      |\n",
       "\n"
      ],
      "text/plain": [
       "  skillName number\n",
       "1 Python    62    \n",
       "2 R          8    \n",
       "3 SQL       64    \n",
       "4 Spark     38    \n",
       "5 Excel     39    \n",
       "6 PowerBI    4    \n",
       "7 Git       30    \n",
       "8 GitHub     4    "
      ]
     },
     "metadata": {},
     "output_type": "display_data"
    }
   ],
   "source": [
    "newData3 = filter(Data,job.category==\"DE\")\n",
    "\n",
    "Python = nrow(newData3[newData3$Python == 1,])\n",
    "R     = nrow(newData3[newData3$R == 1,])\n",
    "SQL     = nrow(newData3[newData3$SQL == 1,])\n",
    "Spark  = nrow(newData3[newData3$Spark == 1,])\n",
    "Excel= nrow(newData3[newData3$Excel == 1,])\n",
    "PowerBI= nrow(newData3[newData3$PowerBI == 1,])\n",
    "Git= nrow(newData3[newData3$Git == 1,])\n",
    "GitHub= nrow(newData3[newData3$GitHub == 1,])\n",
    "\n",
    "skillsTable3 = data.frame(skillName =c(\"Python\",\"R\",\"SQL\",\"Spark\",\"Excel\",\"PowerBI\",\"Git\",\"GitHub\") ,\n",
    "                        number =( ceiling( (c(Python,R,SQL,Spark,Excel,PowerBI,Git,GitHub)/nrow(newData))*100)) )\n",
    "\n",
    "skillsTable3"
   ]
  },
  {
   "cell_type": "code",
   "execution_count": 59,
   "metadata": {
    "scrolled": true
   },
   "outputs": [
    {
     "data": {
      "image/png": "[encoded data removed]",
      "text/plain": [
       "plot without title"
      ]
     },
     "metadata": {},
     "output_type": "display_data"
    }
   ],
   "source": [
    "p<-ggplot(skillsTable3, aes(x=skillName, y=number , fill = skillName) ) +\n",
    "  geom_bar(stat=\"identity\") + geom_text(aes(label=number), vjust=.5, color=\"black\", size=3.5) +\n",
    "  ggtitle(\"Data Engineer technical skills and percntage of demand\")\n",
    "p"
   ]
  },
  {
   "cell_type": "markdown",
   "metadata": {},
   "source": [
    "![](All-Data_files/figure-gfm/unnamed-chunk-44-1.png)<!-- -->\n",
    "\n",
    "### 5.2-Places with higher job opportunities"
   ]
  },
  {
   "cell_type": "code",
   "execution_count": 60,
   "metadata": {
    "scrolled": true
   },
   "outputs": [
    {
     "data": {
      "text/html": [
       "<table>\n",
       "<thead><tr><th scope=col>US.postal.abbreviation</th><th scope=col>number</th></tr></thead>\n",
       "<tbody>\n",
       "\t<tr><td>CA                         </td><td>27.79 %                    </td></tr>\n",
       "\t<tr><td>TX                         </td><td>17.49 %                    </td></tr>\n",
       "\t<tr><td>NY                         </td><td>15.31 %                    </td></tr>\n",
       "\t<tr><td>IL                         </td><td>7.28 %                     </td></tr>\n",
       "\t<tr><td>PA                         </td><td>5.06 %                     </td></tr>\n",
       "\t<tr><td>all other states and cities</td><td>27.07 %                    </td></tr>\n",
       "</tbody>\n",
       "</table>\n"
      ],
      "text/latex": [
       "\\begin{tabular}{r|ll}\n",
       " US.postal.abbreviation & number\\\\\n",
       "\\hline\n",
       "\t CA                          & 27.79 \\%                  \\\\\n",
       "\t TX                          & 17.49 \\%                  \\\\\n",
       "\t NY                          & 15.31 \\%                  \\\\\n",
       "\t IL                          & 7.28 \\%                   \\\\\n",
       "\t PA                          & 5.06 \\%                   \\\\\n",
       "\t all other states and cities & 27.07 \\%                  \\\\\n",
       "\\end{tabular}\n"
      ],
      "text/markdown": [
       "\n",
       "| US.postal.abbreviation | number |\n",
       "|---|---|\n",
       "| CA                          | 27.79 %                     |\n",
       "| TX                          | 17.49 %                     |\n",
       "| NY                          | 15.31 %                     |\n",
       "| IL                          | 7.28 %                      |\n",
       "| PA                          | 5.06 %                      |\n",
       "| all other states and cities | 27.07 %                     |\n",
       "\n"
      ],
      "text/plain": [
       "  US.postal.abbreviation      number \n",
       "1 CA                          27.79 %\n",
       "2 TX                          17.49 %\n",
       "3 NY                          15.31 %\n",
       "4 IL                          7.28 % \n",
       "5 PA                          5.06 % \n",
       "6 all other states and cities 27.07 %"
      ]
     },
     "metadata": {},
     "output_type": "display_data"
    }
   ],
   "source": [
    "place1 <- filter(Data,job.category==\"DA\")\n",
    "place1 <- group_by(place1,US.postal.abbreviation)\n",
    "place1 <-arrange(summarise(place1,number = round(n()/nrow(place1) *100,2 )) , desc(number) )\n",
    "\n",
    "theRest = 100-sum(apply(as.matrix.noquote(place1[\"number\"]),2,as.numeric)[1:5])\n",
    "allTogather = place1[c(1,2,3,4,5),] \n",
    "allTogather = allTogather %>% add_row(US.postal.abbreviation = \"all other states and cities\", number = theRest)\n",
    "allTogather$number=paste(allTogather$number, \"%\")\n",
    "allTogather"
   ]
  },
  {
   "cell_type": "code",
   "execution_count": 61,
   "metadata": {
    "scrolled": true
   },
   "outputs": [
    {
     "data": {
      "image/png": "[encoded data removed]",
      "text/plain": [
       "plot without title"
      ]
     },
     "metadata": {},
     "output_type": "display_data"
    }
   ],
   "source": [
    "ggplot( allTogather  , aes(x = \"\", y = number, fill = US.postal.abbreviation)) +\n",
    "geom_col(color = \"black\") +\n",
    "geom_text(aes(x = 1.6,label = number),position = position_stack(vjust = 0.5)) +\n",
    "coord_polar(theta = \"y\",start=0) +\n",
    "ggtitle(\"Best states to work in as a Data Analysts\")+\n",
    "theme_void()"
   ]
  },
  {
   "cell_type": "markdown",
   "metadata": {},
   "source": [
    "![](All-Data_files/figure-gfm/unnamed-chunk-46-1.png)<!-- -->"
   ]
  },
  {
   "cell_type": "code",
   "execution_count": 62,
   "metadata": {
    "scrolled": true
   },
   "outputs": [
    {
     "data": {
      "text/html": [
       "<table>\n",
       "<thead><tr><th scope=col>US.postal.abbreviation</th><th scope=col>number</th></tr></thead>\n",
       "<tbody>\n",
       "\t<tr><td>TX                         </td><td>32.05                      </td></tr>\n",
       "\t<tr><td>CA                         </td><td>27.35                      </td></tr>\n",
       "\t<tr><td>IL                         </td><td> 9.29                      </td></tr>\n",
       "\t<tr><td>PA                         </td><td> 8.29                      </td></tr>\n",
       "\t<tr><td>NY                         </td><td> 8.01                      </td></tr>\n",
       "\t<tr><td>all other states and cities</td><td>15.01                      </td></tr>\n",
       "</tbody>\n",
       "</table>\n"
      ],
      "text/latex": [
       "\\begin{tabular}{r|ll}\n",
       " US.postal.abbreviation & number\\\\\n",
       "\\hline\n",
       "\t TX                          & 32.05                      \\\\\n",
       "\t CA                          & 27.35                      \\\\\n",
       "\t IL                          &  9.29                      \\\\\n",
       "\t PA                          &  8.29                      \\\\\n",
       "\t NY                          &  8.01                      \\\\\n",
       "\t all other states and cities & 15.01                      \\\\\n",
       "\\end{tabular}\n"
      ],
      "text/markdown": [
       "\n",
       "| US.postal.abbreviation | number |\n",
       "|---|---|\n",
       "| TX                          | 32.05                       |\n",
       "| CA                          | 27.35                       |\n",
       "| IL                          |  9.29                       |\n",
       "| PA                          |  8.29                       |\n",
       "| NY                          |  8.01                       |\n",
       "| all other states and cities | 15.01                       |\n",
       "\n"
      ],
      "text/plain": [
       "  US.postal.abbreviation      number\n",
       "1 TX                          32.05 \n",
       "2 CA                          27.35 \n",
       "3 IL                           9.29 \n",
       "4 PA                           8.29 \n",
       "5 NY                           8.01 \n",
       "6 all other states and cities 15.01 "
      ]
     },
     "metadata": {},
     "output_type": "display_data"
    }
   ],
   "source": [
    "place2 <- filter(Data,job.category==\"DS\")\n",
    "place2 <- group_by(place2,US.postal.abbreviation)\n",
    "place2 <-arrange(summarise(place2,number = round(n()/nrow(place2) *100,2 )) , desc(number) )\n",
    "\n",
    "theRest2 = 100-sum(apply(as.matrix.noquote(place2[\"number\"]),2,as.numeric)[1:5])\n",
    "allTogather2 = place2[c(1,2,3,4,5),] \n",
    "allTogather2 = allTogather2 %>% add_row(US.postal.abbreviation = \"all other states and cities\", number = theRest2)\n",
    "allTogather2"
   ]
  },
  {
   "cell_type": "code",
   "execution_count": 63,
   "metadata": {
    "scrolled": true
   },
   "outputs": [
    {
     "data": {
      "image/png": "[encoded data removed]",
      "text/plain": [
       "plot without title"
      ]
     },
     "metadata": {},
     "output_type": "display_data"
    }
   ],
   "source": [
    "ggplot(allTogather2, aes(x = \"\", y = number, fill = US.postal.abbreviation)) +\n",
    "geom_col(color = \"black\") +\n",
    "geom_text(aes(x = 1.6,label = number),position = position_stack(vjust = 0.5)) +\n",
    "coord_polar(theta = \"y\",start=0) +\n",
    "ggtitle(\"Best states to work in as a Data Scientist\")+\n",
    "theme_void()"
   ]
  },
  {
   "cell_type": "markdown",
   "metadata": {},
   "source": [
    "![](All-Data_files/figure-gfm/unnamed-chunk-48-1.png)<!-- -->"
   ]
  },
  {
   "cell_type": "code",
   "execution_count": 64,
   "metadata": {
    "scrolled": true
   },
   "outputs": [
    {
     "data": {
      "text/html": [
       "<table>\n",
       "<thead><tr><th scope=col>US.postal.abbreviation</th><th scope=col>number</th></tr></thead>\n",
       "<tbody>\n",
       "\t<tr><td>TX                         </td><td>39.56                      </td></tr>\n",
       "\t<tr><td>CA                         </td><td>23.73                      </td></tr>\n",
       "\t<tr><td>AZ                         </td><td> 7.91                      </td></tr>\n",
       "\t<tr><td>IL                         </td><td> 7.91                      </td></tr>\n",
       "\t<tr><td>NY                         </td><td> 7.40                      </td></tr>\n",
       "\t<tr><td>all other states and cities</td><td>13.49                      </td></tr>\n",
       "</tbody>\n",
       "</table>\n"
      ],
      "text/latex": [
       "\\begin{tabular}{r|ll}\n",
       " US.postal.abbreviation & number\\\\\n",
       "\\hline\n",
       "\t TX                          & 39.56                      \\\\\n",
       "\t CA                          & 23.73                      \\\\\n",
       "\t AZ                          &  7.91                      \\\\\n",
       "\t IL                          &  7.91                      \\\\\n",
       "\t NY                          &  7.40                      \\\\\n",
       "\t all other states and cities & 13.49                      \\\\\n",
       "\\end{tabular}\n"
      ],
      "text/markdown": [
       "\n",
       "| US.postal.abbreviation | number |\n",
       "|---|---|\n",
       "| TX                          | 39.56                       |\n",
       "| CA                          | 23.73                       |\n",
       "| AZ                          |  7.91                       |\n",
       "| IL                          |  7.91                       |\n",
       "| NY                          |  7.40                       |\n",
       "| all other states and cities | 13.49                       |\n",
       "\n"
      ],
      "text/plain": [
       "  US.postal.abbreviation      number\n",
       "1 TX                          39.56 \n",
       "2 CA                          23.73 \n",
       "3 AZ                           7.91 \n",
       "4 IL                           7.91 \n",
       "5 NY                           7.40 \n",
       "6 all other states and cities 13.49 "
      ]
     },
     "metadata": {},
     "output_type": "display_data"
    }
   ],
   "source": [
    "place3 <- filter(Data,job.category==\"DE\")\n",
    "place3 <- group_by(place3,US.postal.abbreviation)\n",
    "place3 <-arrange(summarise(place3,number = round(n()/nrow(place3) *100,2 )) , desc(number) )\n",
    "\n",
    "theRest3 = 100-sum(apply(as.matrix.noquote(place3[\"number\"]),2,as.numeric)[1:5])\n",
    "allTogather3 = place3[c(1,2,3,4,5),] \n",
    "allTogather3 = allTogather3 %>% add_row(US.postal.abbreviation = \"all other states and cities\", number = theRest3)\n",
    "allTogather3"
   ]
  },
  {
   "cell_type": "code",
   "execution_count": 65,
   "metadata": {
    "scrolled": true
   },
   "outputs": [
    {
     "data": {
      "image/png": "[encoded data removed]",
      "text/plain": [
       "plot without title"
      ]
     },
     "metadata": {},
     "output_type": "display_data"
    }
   ],
   "source": [
    "ggplot(allTogather3, aes(x = \"\", y = number, fill = US.postal.abbreviation)) +\n",
    "geom_col(color = \"black\") +\n",
    "geom_text(aes(x=1.6,label = number),position = position_stack(vjust = 0.5)) +\n",
    "coord_polar(theta = \"y\",start=0) +\n",
    "ggtitle(\"Best states to work in as a Data Engineer\")+\n",
    "theme_void()"
   ]
  },
  {
   "cell_type": "markdown",
   "metadata": {},
   "source": [
    "![](All-Data_files/figure-gfm/unnamed-chunk-50-1.png)<!-- -->\n",
    "\n",
    "### 5.3-Lowest salary you can get against The highest salary you can get"
   ]
  },
  {
   "cell_type": "code",
   "execution_count": 66,
   "metadata": {
    "scrolled": true
   },
   "outputs": [
    {
     "name": "stdout",
     "output_type": "stream",
     "text": [
      "As a Data Analysts \n",
      "The lowest salary that can be obtained at the beginning is 28000 \n",
      "and Salary can be up to  129000"
     ]
    }
   ],
   "source": [
    "sal1 =  filter(Data,job.category==\"DA\") %>% drop_na()\n",
    "cat(\"As a Data Analysts\",paste(\"\\nThe lowest salary that can be obtained at the beginning is\",min(sal1$BeginningSalary)) ,paste(\"\\nand Salary can be up to \",max(sal1$EndingSalary)))"
   ]
  },
  {
   "cell_type": "code",
   "execution_count": 67,
   "metadata": {
    "scrolled": true
   },
   "outputs": [
    {
     "name": "stdout",
     "output_type": "stream",
     "text": [
      "As a Data scientist \n",
      "The lowest salary that can be obtained at the beginning is 12000 \n",
      "and Salary can be up to  237000"
     ]
    }
   ],
   "source": [
    "sal2 =  filter(Data,job.category==\"DS\") %>% drop_na()\n",
    "cat(\"As a Data scientist\",paste(\"\\nThe lowest salary that can be obtained at the beginning is\",min(sal2$BeginningSalary)) ,paste(\"\\nand Salary can be up to \",max(sal2$EndingSalary)))"
   ]
  },
  {
   "cell_type": "code",
   "execution_count": 68,
   "metadata": {
    "scrolled": true
   },
   "outputs": [
    {
     "name": "stdout",
     "output_type": "stream",
     "text": [
      "As a Data engineer \n",
      "The lowest salary that can be obtained at the beginning is 27000 \n",
      "and Salary can be up to  281000"
     ]
    }
   ],
   "source": [
    "sal3 =  filter(Data,job.category==\"DE\") \n",
    "cat(\"As a Data engineer\",paste(\"\\nThe lowest salary that can be obtained at the beginning is\",min(sal3$BeginningSalary)) ,paste(\"\\nand Salary can be up to \",max(sal3$EndingSalary)))"
   ]
  },
  {
   "cell_type": "markdown",
   "metadata": {},
   "source": [
    "### 5.4-Most industries need workers\n",
    "\n",
    "##### 5.4.1-Top industries to work in as Data analyst"
   ]
  },
  {
   "cell_type": "code",
   "execution_count": 69,
   "metadata": {
    "scrolled": true
   },
   "outputs": [
    {
     "data": {
      "text/html": [
       "<table>\n",
       "<thead><tr><th scope=col>Industry</th><th scope=col>number</th></tr></thead>\n",
       "<tbody>\n",
       "\t<tr><td>IT Services                            </td><td>325                                    </td></tr>\n",
       "\t<tr><td><span style=white-space:pre-wrap>Staffing &amp; Outsourcing                 </span></td><td>323                                                                                </td></tr>\n",
       "\t<tr><td><span style=white-space:pre-wrap>Health Care Services &amp; Hospitals       </span></td><td>151                                                                                </td></tr>\n",
       "\t<tr><td><span style=white-space:pre-wrap>Computer Hardware &amp; Software           </span></td><td>111                                                                                </td></tr>\n",
       "\t<tr><td>Consulting                             </td><td>111                                    </td></tr>\n",
       "\t<tr><td><span style=white-space:pre-wrap>Investment Banking &amp; Asset Management  </span></td><td> 78                                                                                </td></tr>\n",
       "\t<tr><td>Enterprise Software &amp; Network Solutions</td><td> 69                                        </td></tr>\n",
       "\t<tr><td>Internet                               </td><td> 65                                    </td></tr>\n",
       "\t<tr><td><span style=white-space:pre-wrap>Advertising &amp; Marketing                </span></td><td> 51                                                                                </td></tr>\n",
       "\t<tr><td><span style=white-space:pre-wrap>Banks &amp; Credit Unions                  </span></td><td> 51                                                                                </td></tr>\n",
       "</tbody>\n",
       "</table>\n"
      ],
      "text/latex": [
       "\\begin{tabular}{r|ll}\n",
       " Industry & number\\\\\n",
       "\\hline\n",
       "\t IT Services                             & 325                                    \\\\\n",
       "\t Staffing \\& Outsourcing                  & 323                                      \\\\\n",
       "\t Health Care Services \\& Hospitals        & 151                                      \\\\\n",
       "\t Computer Hardware \\& Software            & 111                                      \\\\\n",
       "\t Consulting                              & 111                                    \\\\\n",
       "\t Investment Banking \\& Asset Management   &  78                                      \\\\\n",
       "\t Enterprise Software \\& Network Solutions &  69                                      \\\\\n",
       "\t Internet                                &  65                                    \\\\\n",
       "\t Advertising \\& Marketing                 &  51                                      \\\\\n",
       "\t Banks \\& Credit Unions                   &  51                                      \\\\\n",
       "\\end{tabular}\n"
      ],
      "text/markdown": [
       "\n",
       "| Industry | number |\n",
       "|---|---|\n",
       "| IT Services                             | 325                                     |\n",
       "| Staffing & Outsourcing                  | 323                                     |\n",
       "| Health Care Services & Hospitals        | 151                                     |\n",
       "| Computer Hardware & Software            | 111                                     |\n",
       "| Consulting                              | 111                                     |\n",
       "| Investment Banking & Asset Management   |  78                                     |\n",
       "| Enterprise Software & Network Solutions |  69                                     |\n",
       "| Internet                                |  65                                     |\n",
       "| Advertising & Marketing                 |  51                                     |\n",
       "| Banks & Credit Unions                   |  51                                     |\n",
       "\n"
      ],
      "text/plain": [
       "   Industry                                number\n",
       "1  IT Services                             325   \n",
       "2  Staffing & Outsourcing                  323   \n",
       "3  Health Care Services & Hospitals        151   \n",
       "4  Computer Hardware & Software            111   \n",
       "5  Consulting                              111   \n",
       "6  Investment Banking & Asset Management    78   \n",
       "7  Enterprise Software & Network Solutions  69   \n",
       "8  Internet                                 65   \n",
       "9  Advertising & Marketing                  51   \n",
       "10 Banks & Credit Unions                    51   "
      ]
     },
     "metadata": {},
     "output_type": "display_data"
    }
   ],
   "source": [
    "Industry1 <- filter(Data,job.category==\"DA\") \n",
    "Industry1 <- group_by(Industry1,Industry)\n",
    "Industry1 <-arrange(summarise(Industry1,number = n()) , desc(number) )\n",
    "Industry1[c(2,3,4,5,6,7,8,9,10,11),]"
   ]
  },
  {
   "cell_type": "markdown",
   "metadata": {},
   "source": [
    "#### 5.4.2-Top industries to work in as Data scientist"
   ]
  },
  {
   "cell_type": "code",
   "execution_count": 70,
   "metadata": {
    "scrolled": true
   },
   "outputs": [
    {
     "data": {
      "text/html": [
       "<table>\n",
       "<thead><tr><th scope=col>Industry</th><th scope=col>number</th></tr></thead>\n",
       "<tbody>\n",
       "\t<tr><td>IT Services                            </td><td>472                                    </td></tr>\n",
       "\t<tr><td><span style=white-space:pre-wrap>Staffing &amp; Outsourcing                 </span></td><td>313                                                                                </td></tr>\n",
       "\t<tr><td><span style=white-space:pre-wrap>Biotech &amp; Pharmaceuticals              </span></td><td>293                                                                                </td></tr>\n",
       "\t<tr><td><span style=white-space:pre-wrap>Computer Hardware &amp; Software           </span></td><td>264                                                                                </td></tr>\n",
       "\t<tr><td>Internet                               </td><td>238                                    </td></tr>\n",
       "\t<tr><td><span style=white-space:pre-wrap>Health Care Services &amp; Hospitals       </span></td><td>197                                                                                </td></tr>\n",
       "\t<tr><td>Consulting                             </td><td>166                                    </td></tr>\n",
       "\t<tr><td>Enterprise Software &amp; Network Solutions</td><td>150                                        </td></tr>\n",
       "\t<tr><td><span style=white-space:pre-wrap>Investment Banking &amp; Asset Management  </span></td><td>109                                                                                </td></tr>\n",
       "\t<tr><td><span style=white-space:pre-wrap>Advertising &amp; Marketing                </span></td><td> 93                                                                                </td></tr>\n",
       "</tbody>\n",
       "</table>\n"
      ],
      "text/latex": [
       "\\begin{tabular}{r|ll}\n",
       " Industry & number\\\\\n",
       "\\hline\n",
       "\t IT Services                             & 472                                    \\\\\n",
       "\t Staffing \\& Outsourcing                  & 313                                      \\\\\n",
       "\t Biotech \\& Pharmaceuticals               & 293                                      \\\\\n",
       "\t Computer Hardware \\& Software            & 264                                      \\\\\n",
       "\t Internet                                & 238                                    \\\\\n",
       "\t Health Care Services \\& Hospitals        & 197                                      \\\\\n",
       "\t Consulting                              & 166                                    \\\\\n",
       "\t Enterprise Software \\& Network Solutions & 150                                      \\\\\n",
       "\t Investment Banking \\& Asset Management   & 109                                      \\\\\n",
       "\t Advertising \\& Marketing                 &  93                                      \\\\\n",
       "\\end{tabular}\n"
      ],
      "text/markdown": [
       "\n",
       "| Industry | number |\n",
       "|---|---|\n",
       "| IT Services                             | 472                                     |\n",
       "| Staffing & Outsourcing                  | 313                                     |\n",
       "| Biotech & Pharmaceuticals               | 293                                     |\n",
       "| Computer Hardware & Software            | 264                                     |\n",
       "| Internet                                | 238                                     |\n",
       "| Health Care Services & Hospitals        | 197                                     |\n",
       "| Consulting                              | 166                                     |\n",
       "| Enterprise Software & Network Solutions | 150                                     |\n",
       "| Investment Banking & Asset Management   | 109                                     |\n",
       "| Advertising & Marketing                 |  93                                     |\n",
       "\n"
      ],
      "text/plain": [
       "   Industry                                number\n",
       "1  IT Services                             472   \n",
       "2  Staffing & Outsourcing                  313   \n",
       "3  Biotech & Pharmaceuticals               293   \n",
       "4  Computer Hardware & Software            264   \n",
       "5  Internet                                238   \n",
       "6  Health Care Services & Hospitals        197   \n",
       "7  Consulting                              166   \n",
       "8  Enterprise Software & Network Solutions 150   \n",
       "9  Investment Banking & Asset Management   109   \n",
       "10 Advertising & Marketing                  93   "
      ]
     },
     "metadata": {},
     "output_type": "display_data"
    }
   ],
   "source": [
    "Industry2 <- filter(Data,job.category==\"DS\") \n",
    "Industry2 <- group_by(Industry2,Industry)\n",
    "Industry2 <-arrange(summarise(Industry2,number = n()) , desc(number) )\n",
    "Industry2[c(2,3,4,5,6,7,8,9,10,11),]"
   ]
  },
  {
   "cell_type": "markdown",
   "metadata": {},
   "source": [
    "#### 5.4.3-Top industries to work in as Data engineer"
   ]
  },
  {
   "cell_type": "code",
   "execution_count": 71,
   "metadata": {
    "scrolled": true
   },
   "outputs": [
    {
     "data": {
      "text/html": [
       "<table>\n",
       "<thead><tr><th scope=col>Industry</th><th scope=col>number</th></tr></thead>\n",
       "<tbody>\n",
       "\t<tr><td>IT Services                            </td><td>355                                    </td></tr>\n",
       "\t<tr><td><span style=white-space:pre-wrap>Computer Hardware &amp; Software           </span></td><td>244                                                                                </td></tr>\n",
       "\t<tr><td><span style=white-space:pre-wrap>Staffing &amp; Outsourcing                 </span></td><td>202                                                                                </td></tr>\n",
       "\t<tr><td>Internet                               </td><td>145                                    </td></tr>\n",
       "\t<tr><td>Enterprise Software &amp; Network Solutions</td><td>143                                        </td></tr>\n",
       "\t<tr><td>Consulting                             </td><td> 99                                    </td></tr>\n",
       "\t<tr><td><span style=white-space:pre-wrap>Aerospace &amp; Defense                    </span></td><td> 94                                                                                </td></tr>\n",
       "\t<tr><td><span style=white-space:pre-wrap>Investment Banking &amp; Asset Management  </span></td><td> 76                                                                                </td></tr>\n",
       "\t<tr><td>Insurance Carriers                     </td><td> 61                                    </td></tr>\n",
       "\t<tr><td><span style=white-space:pre-wrap>Advertising &amp; Marketing                </span></td><td> 59                                                                                </td></tr>\n",
       "</tbody>\n",
       "</table>\n"
      ],
      "text/latex": [
       "\\begin{tabular}{r|ll}\n",
       " Industry & number\\\\\n",
       "\\hline\n",
       "\t IT Services                             & 355                                    \\\\\n",
       "\t Computer Hardware \\& Software            & 244                                      \\\\\n",
       "\t Staffing \\& Outsourcing                  & 202                                      \\\\\n",
       "\t Internet                                & 145                                    \\\\\n",
       "\t Enterprise Software \\& Network Solutions & 143                                      \\\\\n",
       "\t Consulting                              &  99                                    \\\\\n",
       "\t Aerospace \\& Defense                     &  94                                      \\\\\n",
       "\t Investment Banking \\& Asset Management   &  76                                      \\\\\n",
       "\t Insurance Carriers                      &  61                                    \\\\\n",
       "\t Advertising \\& Marketing                 &  59                                      \\\\\n",
       "\\end{tabular}\n"
      ],
      "text/markdown": [
       "\n",
       "| Industry | number |\n",
       "|---|---|\n",
       "| IT Services                             | 355                                     |\n",
       "| Computer Hardware & Software            | 244                                     |\n",
       "| Staffing & Outsourcing                  | 202                                     |\n",
       "| Internet                                | 145                                     |\n",
       "| Enterprise Software & Network Solutions | 143                                     |\n",
       "| Consulting                              |  99                                     |\n",
       "| Aerospace & Defense                     |  94                                     |\n",
       "| Investment Banking & Asset Management   |  76                                     |\n",
       "| Insurance Carriers                      |  61                                     |\n",
       "| Advertising & Marketing                 |  59                                     |\n",
       "\n"
      ],
      "text/plain": [
       "   Industry                                number\n",
       "1  IT Services                             355   \n",
       "2  Computer Hardware & Software            244   \n",
       "3  Staffing & Outsourcing                  202   \n",
       "4  Internet                                145   \n",
       "5  Enterprise Software & Network Solutions 143   \n",
       "6  Consulting                               99   \n",
       "7  Aerospace & Defense                      94   \n",
       "8  Investment Banking & Asset Management    76   \n",
       "9  Insurance Carriers                       61   \n",
       "10 Advertising & Marketing                  59   "
      ]
     },
     "metadata": {},
     "output_type": "display_data"
    }
   ],
   "source": [
    "Industry3 <- filter(Data,job.category==\"DE\") \n",
    "Industry3 <- group_by(Industry3,Industry)\n",
    "Industry3 <-arrange(summarise(Industry3,number = n()) , desc(number) )\n",
    "Industry3[c(2,3,4,5,6,7,8,9,10,11),]"
   ]
  },
  {
   "cell_type": "markdown",
   "metadata": {},
   "source": [
    "### 5.5-The size of companies that want a Data analyst , Data scientist or Data engineer"
   ]
  },
  {
   "cell_type": "code",
   "execution_count": 72,
   "metadata": {
    "scrolled": true
   },
   "outputs": [
    {
     "data": {
      "text/html": [
       "<table>\n",
       "<thead><tr><th scope=col>Size</th><th scope=col>number</th></tr></thead>\n",
       "<tbody>\n",
       "\t<tr><td>51 to 200 employees    </td><td>421                    </td></tr>\n",
       "\t<tr><td>10000+ employees       </td><td>375                    </td></tr>\n",
       "\t<tr><td>1001 to 5000 employees </td><td>348                    </td></tr>\n",
       "\t<tr><td>1 to 50 employees      </td><td>347                    </td></tr>\n",
       "\t<tr><td>201 to 500 employees   </td><td>249                    </td></tr>\n",
       "\t<tr><td>501 to 1000 employees  </td><td>211                    </td></tr>\n",
       "\t<tr><td>5001 to 10000 employees</td><td> 97                    </td></tr>\n",
       "</tbody>\n",
       "</table>\n"
      ],
      "text/latex": [
       "\\begin{tabular}{r|ll}\n",
       " Size & number\\\\\n",
       "\\hline\n",
       "\t 51 to 200 employees     & 421                    \\\\\n",
       "\t 10000+ employees        & 375                    \\\\\n",
       "\t 1001 to 5000 employees  & 348                    \\\\\n",
       "\t 1 to 50 employees       & 347                    \\\\\n",
       "\t 201 to 500 employees    & 249                    \\\\\n",
       "\t 501 to 1000 employees   & 211                    \\\\\n",
       "\t 5001 to 10000 employees &  97                    \\\\\n",
       "\\end{tabular}\n"
      ],
      "text/markdown": [
       "\n",
       "| Size | number |\n",
       "|---|---|\n",
       "| 51 to 200 employees     | 421                     |\n",
       "| 10000+ employees        | 375                     |\n",
       "| 1001 to 5000 employees  | 348                     |\n",
       "| 1 to 50 employees       | 347                     |\n",
       "| 201 to 500 employees    | 249                     |\n",
       "| 501 to 1000 employees   | 211                     |\n",
       "| 5001 to 10000 employees |  97                     |\n",
       "\n"
      ],
      "text/plain": [
       "  Size                    number\n",
       "1 51 to 200 employees     421   \n",
       "2 10000+ employees        375   \n",
       "3 1001 to 5000 employees  348   \n",
       "4 1 to 50 employees       347   \n",
       "5 201 to 500 employees    249   \n",
       "6 501 to 1000 employees   211   \n",
       "7 5001 to 10000 employees  97   "
      ]
     },
     "metadata": {},
     "output_type": "display_data"
    }
   ],
   "source": [
    "Size1 <- filter(Data,job.category==\"DA\") \n",
    "Size1 <- group_by(Size1,Size)\n",
    "Size1 <-arrange(summarise(Size1,number = n()) , desc(number) )\n",
    "Size1 <-Size1  %>% drop_na()\n",
    "Size1"
   ]
  },
  {
   "cell_type": "code",
   "execution_count": 73,
   "metadata": {
    "scrolled": true
   },
   "outputs": [
    {
     "data": {
      "image/png": "[encoded data removed]",
      "text/plain": [
       "plot without title"
      ]
     },
     "metadata": {},
     "output_type": "display_data"
    }
   ],
   "source": [
    "ggplot(Size1,aes(x=Size,y=number)) + \n",
    "geom_bar(stat=\"identity\",fill=\"Red\") +\n",
    "coord_flip() +\n",
    "theme(axis.text.x = element_text(color = \"grey20\", size = 10, angle = 90, hjust = .5, vjust = .5, face = \"plain\"),\n",
    "        axis.text.y = element_text(color = \"grey20\", size = 10, angle = 0, hjust = 1, vjust = 0, face = \"plain\"),)+\n",
    "ylab(\"number of comp\") + \n",
    "xlab(\"Size\") + \n",
    "ggtitle(\"The size of companies that want a Data analyst\")"
   ]
  },
  {
   "cell_type": "markdown",
   "metadata": {},
   "source": [
    "![](All-Data_files/figure-gfm/unnamed-chunk-58-1.png)<!-- -->"
   ]
  },
  {
   "cell_type": "code",
   "execution_count": 74,
   "metadata": {
    "scrolled": true
   },
   "outputs": [
    {
     "data": {
      "text/html": [
       "<table>\n",
       "<thead><tr><th scope=col>Size</th><th scope=col>number</th></tr></thead>\n",
       "<tbody>\n",
       "\t<tr><td>10000+ employees       </td><td>993                    </td></tr>\n",
       "\t<tr><td>51 to 200 employees    </td><td>563                    </td></tr>\n",
       "\t<tr><td>1001 to 5000 employees </td><td>553                    </td></tr>\n",
       "\t<tr><td>1 to 50 employees      </td><td>550                    </td></tr>\n",
       "\t<tr><td>201 to 500 employees   </td><td>418                    </td></tr>\n",
       "\t<tr><td>501 to 1000 employees  </td><td>307                    </td></tr>\n",
       "\t<tr><td>5001 to 10000 employees</td><td>219                    </td></tr>\n",
       "</tbody>\n",
       "</table>\n"
      ],
      "text/latex": [
       "\\begin{tabular}{r|ll}\n",
       " Size & number\\\\\n",
       "\\hline\n",
       "\t 10000+ employees        & 993                    \\\\\n",
       "\t 51 to 200 employees     & 563                    \\\\\n",
       "\t 1001 to 5000 employees  & 553                    \\\\\n",
       "\t 1 to 50 employees       & 550                    \\\\\n",
       "\t 201 to 500 employees    & 418                    \\\\\n",
       "\t 501 to 1000 employees   & 307                    \\\\\n",
       "\t 5001 to 10000 employees & 219                    \\\\\n",
       "\\end{tabular}\n"
      ],
      "text/markdown": [
       "\n",
       "| Size | number |\n",
       "|---|---|\n",
       "| 10000+ employees        | 993                     |\n",
       "| 51 to 200 employees     | 563                     |\n",
       "| 1001 to 5000 employees  | 553                     |\n",
       "| 1 to 50 employees       | 550                     |\n",
       "| 201 to 500 employees    | 418                     |\n",
       "| 501 to 1000 employees   | 307                     |\n",
       "| 5001 to 10000 employees | 219                     |\n",
       "\n"
      ],
      "text/plain": [
       "  Size                    number\n",
       "1 10000+ employees        993   \n",
       "2 51 to 200 employees     563   \n",
       "3 1001 to 5000 employees  553   \n",
       "4 1 to 50 employees       550   \n",
       "5 201 to 500 employees    418   \n",
       "6 501 to 1000 employees   307   \n",
       "7 5001 to 10000 employees 219   "
      ]
     },
     "metadata": {},
     "output_type": "display_data"
    }
   ],
   "source": [
    "Size2 <- filter(Data,job.category==\"DS\") \n",
    "Size2 <- group_by(Size2,Size)\n",
    "Size2 <-arrange(summarise(Size2,number = n()) , desc(number) )\n",
    "Size2 <-Size2  %>% drop_na()\n",
    "Size2"
   ]
  },
  {
   "cell_type": "code",
   "execution_count": 75,
   "metadata": {
    "scrolled": true
   },
   "outputs": [
    {
     "data": {
      "image/png": "[encoded data removed]",
      "text/plain": [
       "plot without title"
      ]
     },
     "metadata": {},
     "output_type": "display_data"
    }
   ],
   "source": [
    "ggplot(Size2,aes(x=Size,y=number)) + \n",
    "geom_bar(stat=\"identity\",fill=\"Blue\") +\n",
    "coord_flip() +\n",
    "theme(axis.text.x = element_text(color = \"grey20\", size = 10, angle = 90, hjust = .5, vjust = .5, face = \"plain\"),\n",
    "        axis.text.y = element_text(color = \"grey20\", size = 10, angle = 0, hjust = 1, vjust = 0, face = \"plain\"), )+\n",
    "ylab(\"number of comp\") + \n",
    "xlab(\"Size\") + \n",
    "ggtitle(\"The size of companies that want a Data scientist\")"
   ]
  },
  {
   "cell_type": "markdown",
   "metadata": {},
   "source": [
    "![](All-Data_files/figure-gfm/unnamed-chunk-60-1.png)<!-- -->"
   ]
  },
  {
   "cell_type": "code",
   "execution_count": 76,
   "metadata": {
    "scrolled": true
   },
   "outputs": [
    {
     "data": {
      "text/html": [
       "<table>\n",
       "<thead><tr><th scope=col>Size</th><th scope=col>number</th></tr></thead>\n",
       "<tbody>\n",
       "\t<tr><td>10000+ employees       </td><td>557                    </td></tr>\n",
       "\t<tr><td>51 to 200 employees    </td><td>389                    </td></tr>\n",
       "\t<tr><td>1001 to 5000 employees </td><td>385                    </td></tr>\n",
       "\t<tr><td>1 to 50 employees      </td><td>363                    </td></tr>\n",
       "\t<tr><td>201 to 500 employees   </td><td>272                    </td></tr>\n",
       "\t<tr><td>501 to 1000 employees  </td><td>247                    </td></tr>\n",
       "\t<tr><td>5001 to 10000 employees</td><td>133                    </td></tr>\n",
       "</tbody>\n",
       "</table>\n"
      ],
      "text/latex": [
       "\\begin{tabular}{r|ll}\n",
       " Size & number\\\\\n",
       "\\hline\n",
       "\t 10000+ employees        & 557                    \\\\\n",
       "\t 51 to 200 employees     & 389                    \\\\\n",
       "\t 1001 to 5000 employees  & 385                    \\\\\n",
       "\t 1 to 50 employees       & 363                    \\\\\n",
       "\t 201 to 500 employees    & 272                    \\\\\n",
       "\t 501 to 1000 employees   & 247                    \\\\\n",
       "\t 5001 to 10000 employees & 133                    \\\\\n",
       "\\end{tabular}\n"
      ],
      "text/markdown": [
       "\n",
       "| Size | number |\n",
       "|---|---|\n",
       "| 10000+ employees        | 557                     |\n",
       "| 51 to 200 employees     | 389                     |\n",
       "| 1001 to 5000 employees  | 385                     |\n",
       "| 1 to 50 employees       | 363                     |\n",
       "| 201 to 500 employees    | 272                     |\n",
       "| 501 to 1000 employees   | 247                     |\n",
       "| 5001 to 10000 employees | 133                     |\n",
       "\n"
      ],
      "text/plain": [
       "  Size                    number\n",
       "1 10000+ employees        557   \n",
       "2 51 to 200 employees     389   \n",
       "3 1001 to 5000 employees  385   \n",
       "4 1 to 50 employees       363   \n",
       "5 201 to 500 employees    272   \n",
       "6 501 to 1000 employees   247   \n",
       "7 5001 to 10000 employees 133   "
      ]
     },
     "metadata": {},
     "output_type": "display_data"
    }
   ],
   "source": [
    "Size3 <- filter(Data,job.category==\"DE\") \n",
    "Size3 <- group_by(Size3,Size)\n",
    "Size3 <-arrange(summarise(Size3,number = n()) , desc(number) )\n",
    "Size3 <-Size3  %>% drop_na()\n",
    "Size3"
   ]
  },
  {
   "cell_type": "code",
   "execution_count": 77,
   "metadata": {
    "scrolled": true
   },
   "outputs": [
    {
     "data": {
      "image/png": "[encoded data removed]",
      "text/plain": [
       "plot without title"
      ]
     },
     "metadata": {},
     "output_type": "display_data"
    }
   ],
   "source": [
    "ggplot(Size2,aes(x=Size,y=number)) + \n",
    "geom_bar(stat=\"identity\",fill=\"green\") +\n",
    "coord_flip() +\n",
    "theme(axis.text.x = element_text(color = \"grey20\", size = 10, angle = 90, hjust = .5, vjust = .5, face = \"plain\"),\n",
    "        axis.text.y = element_text(color = \"grey20\", size = 10, angle = 0, hjust = 1, vjust = 0, face = \"plain\"),)+\n",
    "ylab(\"number of comp\") + \n",
    "xlab(\"Size\") +\n",
    "ggtitle(\"The size of companies that want a Data engineer\")"
   ]
  },
  {
   "cell_type": "markdown",
   "metadata": {},
   "source": [
    "![](All-Data_files/figure-gfm/unnamed-chunk-62-1.png)<!-- -->"
   ]
  }
 ],
 "metadata": {
  "kernelspec": {
   "display_name": "R",
   "language": "R",
   "name": "ir"
  },
  "language_info": {
   "codemirror_mode": "r",
   "file_extension": ".r",
   "mimetype": "text/x-r-source",
   "name": "R",
   "pygments_lexer": "r",
   "version": "3.6.1"
  }
 },
 "nbformat": 4,
 "nbformat_minor": 4
}
